{
 "cells": [
  {
   "cell_type": "markdown",
   "id": "c2f2c160-3e7d-44d1-8db1-f901df3d367e",
   "metadata": {},
   "source": [
    "## Zomato Bangalore Restaurants Prediction\n",
    "The basic idea of analyzing the Zomato dataset is to get a fair idea about the factors affecting the establishment\n",
    "of different types of restaurant at different places in Bengalur."
   ]
  },
  {
   "cell_type": "code",
   "execution_count": 1,
   "id": "7a207050-3f14-48d3-a75f-d17466d6ed49",
   "metadata": {},
   "outputs": [],
   "source": [
    "DF_PATH = '../data/raw/zomato.csv'\n",
    "DF_SAVE_PATH = '../data/processed/ML_zomato_processed.csv'"
   ]
  },
  {
   "cell_type": "markdown",
   "id": "0f8a9a86-79bd-419c-b9df-3d0b403f45a0",
   "metadata": {},
   "source": [
    "### Import libraries"
   ]
  },
  {
   "cell_type": "code",
   "execution_count": 2,
   "id": "f6026053-37e3-45db-b367-abc4163080e6",
   "metadata": {},
   "outputs": [],
   "source": [
    "import pandas as pd\n",
    "import numpy as np\n",
    "import matplotlib.pyplot as plt\n",
    "import seaborn as sns\n",
    "import plotly.express as px"
   ]
  },
  {
   "cell_type": "markdown",
   "id": "e7041762-9b13-47c6-a573-5113136c4f8b",
   "metadata": {},
   "source": [
    "### Read dataframe"
   ]
  },
  {
   "cell_type": "code",
   "execution_count": 3,
   "id": "19a7ad58-7886-4540-8255-bb9e10523283",
   "metadata": {},
   "outputs": [
    {
     "data": {
      "text/html": [
       "<div>\n",
       "<style scoped>\n",
       "    .dataframe tbody tr th:only-of-type {\n",
       "        vertical-align: middle;\n",
       "    }\n",
       "\n",
       "    .dataframe tbody tr th {\n",
       "        vertical-align: top;\n",
       "    }\n",
       "\n",
       "    .dataframe thead th {\n",
       "        text-align: right;\n",
       "    }\n",
       "</style>\n",
       "<table border=\"1\" class=\"dataframe\">\n",
       "  <thead>\n",
       "    <tr style=\"text-align: right;\">\n",
       "      <th></th>\n",
       "      <th>url</th>\n",
       "      <th>address</th>\n",
       "      <th>name</th>\n",
       "      <th>online_order</th>\n",
       "      <th>book_table</th>\n",
       "      <th>rate</th>\n",
       "      <th>votes</th>\n",
       "      <th>phone</th>\n",
       "      <th>location</th>\n",
       "      <th>rest_type</th>\n",
       "      <th>dish_liked</th>\n",
       "      <th>cuisines</th>\n",
       "      <th>approx_cost(for two people)</th>\n",
       "      <th>reviews_list</th>\n",
       "      <th>menu_item</th>\n",
       "      <th>listed_in(type)</th>\n",
       "      <th>listed_in(city)</th>\n",
       "    </tr>\n",
       "  </thead>\n",
       "  <tbody>\n",
       "    <tr>\n",
       "      <th>31392</th>\n",
       "      <td>https://www.zomato.com/bangalore/daawat-restau...</td>\n",
       "      <td>Maruti Plaza, 340, 1st B Main Road, Koramangal...</td>\n",
       "      <td>Daawat Restaurant Bar &amp; Pub</td>\n",
       "      <td>Yes</td>\n",
       "      <td>No</td>\n",
       "      <td>3.5 /5</td>\n",
       "      <td>9</td>\n",
       "      <td>+91 9964849987\\r\\n+91 9743028415</td>\n",
       "      <td>Koramangala 7th Block</td>\n",
       "      <td>Bar, Casual Dining</td>\n",
       "      <td>NaN</td>\n",
       "      <td>Finger Food, North Indian, Seafood, Mangalorea...</td>\n",
       "      <td>700</td>\n",
       "      <td>[('Rated 5.0', 'RATED\\n  The place is very sma...</td>\n",
       "      <td>[]</td>\n",
       "      <td>Dine-out</td>\n",
       "      <td>Koramangala 5th Block</td>\n",
       "    </tr>\n",
       "    <tr>\n",
       "      <th>21004</th>\n",
       "      <td>https://www.zomato.com/bangalore/90s-cafe-jp-n...</td>\n",
       "      <td>120, 9th Cross Road, Jeewan Sathi Colony, 1st ...</td>\n",
       "      <td>90's Cafe</td>\n",
       "      <td>No</td>\n",
       "      <td>No</td>\n",
       "      <td>NEW</td>\n",
       "      <td>0</td>\n",
       "      <td>+91 9739500555</td>\n",
       "      <td>JP Nagar</td>\n",
       "      <td>Quick Bites</td>\n",
       "      <td>NaN</td>\n",
       "      <td>Fast Food, Burger</td>\n",
       "      <td>500</td>\n",
       "      <td>[]</td>\n",
       "      <td>[]</td>\n",
       "      <td>Desserts</td>\n",
       "      <td>Jayanagar</td>\n",
       "    </tr>\n",
       "    <tr>\n",
       "      <th>38794</th>\n",
       "      <td>https://www.zomato.com/bangalore/the-chariot-b...</td>\n",
       "      <td>30, Residency Road, Brigade Road, Bangalore</td>\n",
       "      <td>The Chariot</td>\n",
       "      <td>Yes</td>\n",
       "      <td>No</td>\n",
       "      <td>2.9 /5</td>\n",
       "      <td>50</td>\n",
       "      <td>+91 9900227802\\n080 25597419</td>\n",
       "      <td>Brigade Road</td>\n",
       "      <td>Quick Bites</td>\n",
       "      <td>Masala Dosa, Panneer Butter Masala, Thali</td>\n",
       "      <td>South Indian, North Indian, Chinese</td>\n",
       "      <td>350</td>\n",
       "      <td>[('Rated 4.0', 'RATED\\n  The food is good. I h...</td>\n",
       "      <td>['Dal Tadka', 'Kajoo Masala', 'Ghee Rice', 'Ve...</td>\n",
       "      <td>Dine-out</td>\n",
       "      <td>Lavelle Road</td>\n",
       "    </tr>\n",
       "  </tbody>\n",
       "</table>\n",
       "</div>"
      ],
      "text/plain": [
       "                                                     url  \\\n",
       "31392  https://www.zomato.com/bangalore/daawat-restau...   \n",
       "21004  https://www.zomato.com/bangalore/90s-cafe-jp-n...   \n",
       "38794  https://www.zomato.com/bangalore/the-chariot-b...   \n",
       "\n",
       "                                                 address  \\\n",
       "31392  Maruti Plaza, 340, 1st B Main Road, Koramangal...   \n",
       "21004  120, 9th Cross Road, Jeewan Sathi Colony, 1st ...   \n",
       "38794        30, Residency Road, Brigade Road, Bangalore   \n",
       "\n",
       "                              name online_order book_table    rate  votes  \\\n",
       "31392  Daawat Restaurant Bar & Pub          Yes         No  3.5 /5      9   \n",
       "21004                    90's Cafe           No         No     NEW      0   \n",
       "38794                  The Chariot          Yes         No  2.9 /5     50   \n",
       "\n",
       "                                  phone               location  \\\n",
       "31392  +91 9964849987\\r\\n+91 9743028415  Koramangala 7th Block   \n",
       "21004                    +91 9739500555               JP Nagar   \n",
       "38794      +91 9900227802\\n080 25597419           Brigade Road   \n",
       "\n",
       "                rest_type                                 dish_liked  \\\n",
       "31392  Bar, Casual Dining                                        NaN   \n",
       "21004         Quick Bites                                        NaN   \n",
       "38794         Quick Bites  Masala Dosa, Panneer Butter Masala, Thali   \n",
       "\n",
       "                                                cuisines  \\\n",
       "31392  Finger Food, North Indian, Seafood, Mangalorea...   \n",
       "21004                                  Fast Food, Burger   \n",
       "38794                South Indian, North Indian, Chinese   \n",
       "\n",
       "      approx_cost(for two people)  \\\n",
       "31392                         700   \n",
       "21004                         500   \n",
       "38794                         350   \n",
       "\n",
       "                                            reviews_list  \\\n",
       "31392  [('Rated 5.0', 'RATED\\n  The place is very sma...   \n",
       "21004                                                 []   \n",
       "38794  [('Rated 4.0', 'RATED\\n  The food is good. I h...   \n",
       "\n",
       "                                               menu_item listed_in(type)  \\\n",
       "31392                                                 []        Dine-out   \n",
       "21004                                                 []        Desserts   \n",
       "38794  ['Dal Tadka', 'Kajoo Masala', 'Ghee Rice', 'Ve...        Dine-out   \n",
       "\n",
       "             listed_in(city)  \n",
       "31392  Koramangala 5th Block  \n",
       "21004              Jayanagar  \n",
       "38794           Lavelle Road  "
      ]
     },
     "execution_count": 3,
     "metadata": {},
     "output_type": "execute_result"
    }
   ],
   "source": [
    "df = pd.read_csv(DF_PATH)\n",
    "df.sample(3)"
   ]
  },
  {
   "cell_type": "markdown",
   "id": "ff70b7ea-ef66-4c96-9340-780f323aeed9",
   "metadata": {},
   "source": [
    "**To do list:**\n",
    "- Drop unneeded features: (name, url, address, phone, dish_liked, reviews_list, menu_item, votes).\n",
    "- Fix (rate, approx_cost) features problems.\n",
    "- Check null values and handle it.\n",
    "- Engineer features (cuisines, rest_type, location).\n",
    "- Create Target Feature.\n",
    "- Remove duplicated rows.\n",
    "- Save the prepared data into csv file."
   ]
  },
  {
   "cell_type": "markdown",
   "id": "ff4d4225-5354-4ab0-b801-e62b37a67337",
   "metadata": {},
   "source": [
    "---------"
   ]
  },
  {
   "cell_type": "markdown",
   "id": "d2848e6c-1aba-430b-adf7-da1e98a332f7",
   "metadata": {},
   "source": [
    "### Drop unneeded features: (url, address, phone, dish_liked, reviews_list, menu_item)."
   ]
  },
  {
   "cell_type": "code",
   "execution_count": 4,
   "id": "b924459e-9e87-495e-84a1-ecb441b202b4",
   "metadata": {},
   "outputs": [
    {
     "name": "stdout",
     "output_type": "stream",
     "text": [
      "<class 'pandas.core.frame.DataFrame'>\n",
      "RangeIndex: 51717 entries, 0 to 51716\n",
      "Data columns (total 9 columns):\n",
      " #   Column                       Non-Null Count  Dtype \n",
      "---  ------                       --------------  ----- \n",
      " 0   online_order                 51717 non-null  object\n",
      " 1   book_table                   51717 non-null  object\n",
      " 2   rate                         43942 non-null  object\n",
      " 3   location                     51696 non-null  object\n",
      " 4   rest_type                    51490 non-null  object\n",
      " 5   cuisines                     51672 non-null  object\n",
      " 6   approx_cost(for two people)  51371 non-null  object\n",
      " 7   listed_in(type)              51717 non-null  object\n",
      " 8   listed_in(city)              51717 non-null  object\n",
      "dtypes: object(9)\n",
      "memory usage: 3.6+ MB\n"
     ]
    }
   ],
   "source": [
    "cols_to_drop = ['name', 'url', 'address', 'phone', 'dish_liked', 'reviews_list', 'menu_item', 'votes']\n",
    "df.drop(cols_to_drop, axis = 1, inplace = True)\n",
    "df.info()"
   ]
  },
  {
   "cell_type": "markdown",
   "id": "38063ceb-17bd-4490-8968-e81cf752b50a",
   "metadata": {},
   "source": [
    "### Fix (rate, approx_cost) features problems."
   ]
  },
  {
   "cell_type": "code",
   "execution_count": 5,
   "id": "99d11393-ee43-480e-bbf2-f349e146afa3",
   "metadata": {},
   "outputs": [],
   "source": [
    "def fix_rate(rate):\n",
    "    try:\n",
    "        return float(rate[0:3])\n",
    "    except:\n",
    "        return np.nan"
   ]
  },
  {
   "cell_type": "code",
   "execution_count": 6,
   "id": "6d2f9e21-2420-4101-8a84-ec394fe53576",
   "metadata": {},
   "outputs": [
    {
     "data": {
      "text/plain": [
       "array([4.1, 3.8, 3.7, 3.6, 4.6, 4. , 4.2, 3.9, 3.1, 3. , 3.2, 3.3, 2.8,\n",
       "       4.4, 4.3, nan, 2.9, 3.5, 2.6, 3.4, 4.5, 2.5, 2.7, 4.7, 2.4, 2.2,\n",
       "       2.3, 4.8, 4.9, 2.1, 2. , 1.8])"
      ]
     },
     "execution_count": 6,
     "metadata": {},
     "output_type": "execute_result"
    }
   ],
   "source": [
    "df['rate'].apply(fix_rate).unique()"
   ]
  },
  {
   "cell_type": "code",
   "execution_count": 7,
   "id": "d791f9dd-3a30-419a-9287-1bca9f0e9aa2",
   "metadata": {},
   "outputs": [],
   "source": [
    "df['rate'] = df['rate'].apply(fix_rate)"
   ]
  },
  {
   "cell_type": "code",
   "execution_count": 8,
   "id": "76b0aea4-efa8-4a4f-92ce-236a9874af43",
   "metadata": {},
   "outputs": [
    {
     "data": {
      "text/plain": [
       "array([4.1, 3.8, 3.7, 3.6, 4.6, 4. , 4.2, 3.9, 3.1, 3. , 3.2, 3.3, 2.8,\n",
       "       4.4, 4.3, nan, 2.9, 3.5, 2.6, 3.4, 4.5, 2.5, 2.7, 4.7, 2.4, 2.2,\n",
       "       2.3, 4.8, 4.9, 2.1, 2. , 1.8])"
      ]
     },
     "execution_count": 8,
     "metadata": {},
     "output_type": "execute_result"
    }
   ],
   "source": [
    "df['rate'].unique()"
   ]
  },
  {
   "cell_type": "code",
   "execution_count": 9,
   "id": "a9e43560-8198-4ac1-9b19-d9bac5bbc066",
   "metadata": {},
   "outputs": [
    {
     "data": {
      "text/plain": [
       "array([ 800.,  300.,  600.,  700.,  550.,  500.,  450.,  650.,  400.,\n",
       "        900.,  200.,  750.,  150.,  850.,  100., 1200.,  350.,  250.,\n",
       "        950., 1000., 1500., 1300.,  199.,   80., 1100.,  160., 1600.,\n",
       "        230.,  130.,   50.,  190., 1700.,   nan, 1400.,  180., 1350.,\n",
       "       2200., 2000., 1800., 1900.,  330., 2500., 2100., 3000., 2800.,\n",
       "       3400.,   40., 1250., 3500., 4000., 2400., 2600.,  120., 1450.,\n",
       "        469.,   70., 3200.,   60.,  560.,  240.,  360., 6000., 1050.,\n",
       "       2300., 4100., 5000., 3700., 1650., 2700., 4500.,  140.])"
      ]
     },
     "execution_count": 9,
     "metadata": {},
     "output_type": "execute_result"
    }
   ],
   "source": [
    "df['approx_cost(for two people)'].astype(str).apply(lambda c : float(c.replace(\",\", \"\"))).unique()"
   ]
  },
  {
   "cell_type": "code",
   "execution_count": 10,
   "id": "100b8e55-b49e-45d7-be6e-60dcd451fb94",
   "metadata": {},
   "outputs": [],
   "source": [
    "df['approx_cost(for two people)'] = df['approx_cost(for two people)'].astype(str).apply(lambda c : float(c.replace(\",\", \"\")))"
   ]
  },
  {
   "cell_type": "code",
   "execution_count": 11,
   "id": "3862956e-e594-426e-bb4a-b10fcf18a6e3",
   "metadata": {},
   "outputs": [
    {
     "data": {
      "text/plain": [
       "array([ 800.,  300.,  600.,  700.,  550.,  500.,  450.,  650.,  400.,\n",
       "        900.,  200.,  750.,  150.,  850.,  100., 1200.,  350.,  250.,\n",
       "        950., 1000., 1500., 1300.,  199.,   80., 1100.,  160., 1600.,\n",
       "        230.,  130.,   50.,  190., 1700.,   nan, 1400.,  180., 1350.,\n",
       "       2200., 2000., 1800., 1900.,  330., 2500., 2100., 3000., 2800.,\n",
       "       3400.,   40., 1250., 3500., 4000., 2400., 2600.,  120., 1450.,\n",
       "        469.,   70., 3200.,   60.,  560.,  240.,  360., 6000., 1050.,\n",
       "       2300., 4100., 5000., 3700., 1650., 2700., 4500.,  140.])"
      ]
     },
     "execution_count": 11,
     "metadata": {},
     "output_type": "execute_result"
    }
   ],
   "source": [
    "df['approx_cost(for two people)'].unique()"
   ]
  },
  {
   "cell_type": "markdown",
   "id": "a3cca705-829e-435d-ae3e-af49e31ab97f",
   "metadata": {},
   "source": [
    "### Check null values and handle it."
   ]
  },
  {
   "cell_type": "code",
   "execution_count": 12,
   "id": "b1277d71-8fe9-4f92-900e-3006545b01b0",
   "metadata": {
    "scrolled": true
   },
   "outputs": [
    {
     "data": {
      "text/plain": [
       "online_order                    0.000000\n",
       "book_table                      0.000000\n",
       "rate                           19.436549\n",
       "location                        0.040606\n",
       "rest_type                       0.438927\n",
       "cuisines                        0.087012\n",
       "approx_cost(for two people)     0.669026\n",
       "listed_in(type)                 0.000000\n",
       "listed_in(city)                 0.000000\n",
       "dtype: float64"
      ]
     },
     "execution_count": 12,
     "metadata": {},
     "output_type": "execute_result"
    }
   ],
   "source": [
    "df.isna().mean() * 100"
   ]
  },
  {
   "cell_type": "markdown",
   "id": "afb49b58-c1ba-4691-af04-2aa1d86b7c54",
   "metadata": {},
   "source": [
    "> **Note:** The null values count are not many regarding the count of dataset, so we will drop these rows."
   ]
  },
  {
   "cell_type": "code",
   "execution_count": 13,
   "id": "2c6169e8-ac29-4b60-b0ab-836c9c6cff84",
   "metadata": {},
   "outputs": [],
   "source": [
    "df.dropna(axis = 0, inplace = True)"
   ]
  },
  {
   "cell_type": "code",
   "execution_count": 14,
   "id": "1363992e-8508-4e76-8e83-7cdec1be859a",
   "metadata": {},
   "outputs": [
    {
     "data": {
      "text/plain": [
       "online_order                   0.0\n",
       "book_table                     0.0\n",
       "rate                           0.0\n",
       "location                       0.0\n",
       "rest_type                      0.0\n",
       "cuisines                       0.0\n",
       "approx_cost(for two people)    0.0\n",
       "listed_in(type)                0.0\n",
       "listed_in(city)                0.0\n",
       "dtype: float64"
      ]
     },
     "execution_count": 14,
     "metadata": {},
     "output_type": "execute_result"
    }
   ],
   "source": [
    "df.isna().mean() * 100"
   ]
  },
  {
   "cell_type": "markdown",
   "id": "81ad9f09-cbf1-4f29-ba4e-1b4d02f93b4e",
   "metadata": {},
   "source": [
    "### Engineer features (cuisines, rest_type, location)."
   ]
  },
  {
   "cell_type": "code",
   "execution_count": 15,
   "id": "69a0d054-6d6d-4bd2-856e-a94c47531847",
   "metadata": {},
   "outputs": [],
   "source": [
    "df['rest_type_counts'] = df['rest_type'].astype(str).apply(lambda c : len(c.split(',')))"
   ]
  },
  {
   "cell_type": "code",
   "execution_count": 16,
   "id": "35b4dac6-b5ca-444f-9f6a-e1b6205c99c4",
   "metadata": {},
   "outputs": [],
   "source": [
    "df['cuisines_counts'] = df['cuisines'].astype(str).apply(lambda c : len(c.split(',')))"
   ]
  },
  {
   "cell_type": "markdown",
   "id": "7c5d75de-7a4d-4d02-be3d-46f53a230c4a",
   "metadata": {},
   "source": [
    "#### Drop 2 features (rest_type, cuisines)"
   ]
  },
  {
   "cell_type": "code",
   "execution_count": 17,
   "id": "e036ed59-a734-4334-925e-a5a937ccd643",
   "metadata": {},
   "outputs": [],
   "source": [
    "df.drop(['rest_type', 'cuisines'], axis = 1, inplace = True)"
   ]
  },
  {
   "cell_type": "code",
   "execution_count": 18,
   "id": "2fe5521d-c2c7-4afc-a22a-9e9e806be053",
   "metadata": {},
   "outputs": [
    {
     "name": "stdout",
     "output_type": "stream",
     "text": [
      "<class 'pandas.core.frame.DataFrame'>\n",
      "Index: 41263 entries, 0 to 51716\n",
      "Data columns (total 9 columns):\n",
      " #   Column                       Non-Null Count  Dtype  \n",
      "---  ------                       --------------  -----  \n",
      " 0   online_order                 41263 non-null  object \n",
      " 1   book_table                   41263 non-null  object \n",
      " 2   rate                         41263 non-null  float64\n",
      " 3   location                     41263 non-null  object \n",
      " 4   approx_cost(for two people)  41263 non-null  float64\n",
      " 5   listed_in(type)              41263 non-null  object \n",
      " 6   listed_in(city)              41263 non-null  object \n",
      " 7   rest_type_counts             41263 non-null  int64  \n",
      " 8   cuisines_counts              41263 non-null  int64  \n",
      "dtypes: float64(2), int64(2), object(5)\n",
      "memory usage: 3.1+ MB\n"
     ]
    }
   ],
   "source": [
    "df.info()"
   ]
  },
  {
   "cell_type": "code",
   "execution_count": 19,
   "id": "208ffda1-5a0c-4352-8dfe-352d35321946",
   "metadata": {},
   "outputs": [
    {
     "data": {
      "text/plain": [
       "location\n",
       "BTM                      9.400674\n",
       "Koramangala 5th Block    5.566730\n",
       "HSR                      4.829993\n",
       "Indiranagar              4.362262\n",
       "JP Nagar                 4.144149\n",
       "                           ...   \n",
       "Yelahanka                0.009694\n",
       "West Bangalore           0.007270\n",
       "Rajarajeshwari Nagar     0.004847\n",
       "Nagarbhavi               0.002423\n",
       "Peenya                   0.002423\n",
       "Name: proportion, Length: 92, dtype: float64"
      ]
     },
     "execution_count": 19,
     "metadata": {},
     "output_type": "execute_result"
    }
   ],
   "source": [
    "df_locations_perc = df['location'].value_counts(normalize=True) * 100\n",
    "df_locations_perc"
   ]
  },
  {
   "cell_type": "code",
   "execution_count": 20,
   "id": "3f622818-000e-4ca0-bdcd-b7906b35597a",
   "metadata": {},
   "outputs": [
    {
     "data": {
      "text/plain": [
       "location\n",
       "BTM                      9.400674\n",
       "Koramangala 5th Block    5.566730\n",
       "HSR                      4.829993\n",
       "Indiranagar              4.362262\n",
       "JP Nagar                 4.144149\n",
       "Jayanagar                3.959964\n",
       "Whitefield               3.800015\n",
       "Marathahalli             3.417105\n",
       "Bannerghatta Road        2.971185\n",
       "Koramangala 7th Block    2.556770\n",
       "Koramangala 6th Block    2.554347\n",
       "Brigade Road             2.549500\n",
       "Bellandur                2.416208\n",
       "Sarjapur Road            2.069651\n",
       "Koramangala 1st Block    2.064804\n",
       "Ulsoor                   2.057533\n",
       "Koramangala 4th Block    2.038146\n",
       "Electronic City          2.021181\n",
       "MG Road                  1.921819\n",
       "Banashankari             1.803068\n",
       "Kalyan Nagar             1.677047\n",
       "Malleshwaram             1.553450\n",
       "Residency Road           1.463781\n",
       "Richmond Road            1.463781\n",
       "Basavanagudi             1.441970\n",
       "Frazer Town              1.371689\n",
       "Church Street            1.323219\n",
       "Brookefield              1.315949\n",
       "New BEL Road             1.226280\n",
       "Kammanahalli             1.194775\n",
       "Lavelle Road             1.165693\n",
       "Cunningham Road          1.151152\n",
       "Banaswadi                1.134188\n",
       "Rajajinagar              1.117224\n",
       "Domlur                   0.983932\n",
       "Shanti Nagar             0.891840\n",
       "Old Airport Road         0.855488\n",
       "St. Marks Road           0.831253\n",
       "Shivajinagar             0.671304\n",
       "Commercial Street        0.654339\n",
       "Ejipura                  0.620411\n",
       "Jeevan Bhima Nagar       0.598599\n",
       "Vasanth Nagar            0.593752\n",
       "Koramangala 8th Block    0.513777\n",
       "Name: proportion, dtype: float64"
      ]
     },
     "execution_count": 20,
     "metadata": {},
     "output_type": "execute_result"
    }
   ],
   "source": [
    "desired_locations = df_locations_perc[df_locations_perc>0.5]\n",
    "desired_locations"
   ]
  },
  {
   "cell_type": "code",
   "execution_count": 21,
   "id": "0ebaf962-df61-41aa-a3f3-151bd700309f",
   "metadata": {},
   "outputs": [],
   "source": [
    "def fix_location(r):\n",
    "    if r in desired_locations:\n",
    "        return r\n",
    "    else:\n",
    "        return 'other'"
   ]
  },
  {
   "cell_type": "code",
   "execution_count": 22,
   "id": "147d4c80-97ad-4010-9ef9-f45f7bae53c9",
   "metadata": {},
   "outputs": [
    {
     "data": {
      "text/plain": [
       "location\n",
       "BTM                      9.400674\n",
       "other                    7.680004\n",
       "Koramangala 5th Block    5.566730\n",
       "HSR                      4.829993\n",
       "Indiranagar              4.362262\n",
       "JP Nagar                 4.144149\n",
       "Jayanagar                3.959964\n",
       "Whitefield               3.800015\n",
       "Marathahalli             3.417105\n",
       "Bannerghatta Road        2.971185\n",
       "Koramangala 7th Block    2.556770\n",
       "Koramangala 6th Block    2.554347\n",
       "Brigade Road             2.549500\n",
       "Bellandur                2.416208\n",
       "Sarjapur Road            2.069651\n",
       "Koramangala 1st Block    2.064804\n",
       "Ulsoor                   2.057533\n",
       "Koramangala 4th Block    2.038146\n",
       "Electronic City          2.021181\n",
       "MG Road                  1.921819\n",
       "Banashankari             1.803068\n",
       "Kalyan Nagar             1.677047\n",
       "Malleshwaram             1.553450\n",
       "Residency Road           1.463781\n",
       "Richmond Road            1.463781\n",
       "Basavanagudi             1.441970\n",
       "Frazer Town              1.371689\n",
       "Church Street            1.323219\n",
       "Brookefield              1.315949\n",
       "New BEL Road             1.226280\n",
       "Kammanahalli             1.194775\n",
       "Lavelle Road             1.165693\n",
       "Cunningham Road          1.151152\n",
       "Banaswadi                1.134188\n",
       "Rajajinagar              1.117224\n",
       "Domlur                   0.983932\n",
       "Shanti Nagar             0.891840\n",
       "Old Airport Road         0.855488\n",
       "St. Marks Road           0.831253\n",
       "Shivajinagar             0.671304\n",
       "Commercial Street        0.654339\n",
       "Ejipura                  0.620411\n",
       "Jeevan Bhima Nagar       0.598599\n",
       "Vasanth Nagar            0.593752\n",
       "Koramangala 8th Block    0.513777\n",
       "Name: proportion, dtype: float64"
      ]
     },
     "execution_count": 22,
     "metadata": {},
     "output_type": "execute_result"
    }
   ],
   "source": [
    "df['location'] = df['location'].apply(fix_location)\n",
    "df['location'].value_counts(normalize=True) * 100"
   ]
  },
  {
   "cell_type": "markdown",
   "id": "d0c7cc15-6222-4797-84c3-6ff977504589",
   "metadata": {},
   "source": [
    "### Create Target Feature."
   ]
  },
  {
   "cell_type": "code",
   "execution_count": 23,
   "id": "c09e5de3-c385-4d0a-b6d2-1ea58ec86e68",
   "metadata": {},
   "outputs": [
    {
     "data": {
      "text/plain": [
       "count    41263.000000\n",
       "mean         3.702011\n",
       "std          0.439985\n",
       "min          1.800000\n",
       "25%          3.400000\n",
       "50%          3.700000\n",
       "75%          4.000000\n",
       "max          4.900000\n",
       "Name: rate, dtype: float64"
      ]
     },
     "execution_count": 23,
     "metadata": {},
     "output_type": "execute_result"
    }
   ],
   "source": [
    "df['rate'].describe()"
   ]
  },
  {
   "cell_type": "code",
   "execution_count": 24,
   "id": "4b8cc1dd-cd17-4558-8322-c9fc3c4ef073",
   "metadata": {},
   "outputs": [],
   "source": [
    "def create_target(rate):\n",
    "    try:\n",
    "        if rate >= 3.75:\n",
    "            return  1\n",
    "        else:\n",
    "            return 0\n",
    "    except:\n",
    "        return np.nan"
   ]
  },
  {
   "cell_type": "code",
   "execution_count": 25,
   "id": "12074b70-7282-4311-bc6c-e021c6b0f7fe",
   "metadata": {},
   "outputs": [
    {
     "name": "stdout",
     "output_type": "stream",
     "text": [
      "<class 'pandas.core.frame.DataFrame'>\n",
      "Index: 41263 entries, 0 to 51716\n",
      "Data columns (total 9 columns):\n",
      " #   Column                       Non-Null Count  Dtype  \n",
      "---  ------                       --------------  -----  \n",
      " 0   online_order                 41263 non-null  object \n",
      " 1   book_table                   41263 non-null  object \n",
      " 2   location                     41263 non-null  object \n",
      " 3   approx_cost(for two people)  41263 non-null  float64\n",
      " 4   listed_in(type)              41263 non-null  object \n",
      " 5   listed_in(city)              41263 non-null  object \n",
      " 6   rest_type_counts             41263 non-null  int64  \n",
      " 7   cuisines_counts              41263 non-null  int64  \n",
      " 8   success                      41263 non-null  int64  \n",
      "dtypes: float64(1), int64(3), object(5)\n",
      "memory usage: 3.1+ MB\n"
     ]
    }
   ],
   "source": [
    "df['success'] = df['rate'].apply(create_target)\n",
    "df.drop('rate', axis = 1, inplace = True)\n",
    "df.info()"
   ]
  },
  {
   "cell_type": "code",
   "execution_count": 26,
   "id": "29e931ba-898e-4c45-b9c2-08be48ccae3e",
   "metadata": {},
   "outputs": [
    {
     "data": {
      "text/plain": [
       "success\n",
       "0    21185\n",
       "1    20078\n",
       "Name: count, dtype: int64"
      ]
     },
     "execution_count": 26,
     "metadata": {},
     "output_type": "execute_result"
    }
   ],
   "source": [
    "df['success'].value_counts()"
   ]
  },
  {
   "cell_type": "markdown",
   "id": "9f4a075b-d35c-4487-9f43-b84804af35f1",
   "metadata": {},
   "source": [
    "### Remove duplicated rows."
   ]
  },
  {
   "cell_type": "code",
   "execution_count": 27,
   "id": "ad030405-cef8-4e0c-af72-4157ad30d662",
   "metadata": {},
   "outputs": [
    {
     "data": {
      "text/plain": [
       "9250"
      ]
     },
     "execution_count": 27,
     "metadata": {},
     "output_type": "execute_result"
    }
   ],
   "source": [
    "df.duplicated().sum()"
   ]
  },
  {
   "cell_type": "code",
   "execution_count": 28,
   "id": "34c363a8-0f1d-4608-a176-a0a826d52d38",
   "metadata": {},
   "outputs": [],
   "source": [
    "df.drop_duplicates(inplace = True)"
   ]
  },
  {
   "cell_type": "code",
   "execution_count": 29,
   "id": "1593d81e-ff02-4548-b0e3-46b0ee221a8f",
   "metadata": {},
   "outputs": [
    {
     "data": {
      "text/plain": [
       "0"
      ]
     },
     "execution_count": 29,
     "metadata": {},
     "output_type": "execute_result"
    }
   ],
   "source": [
    "df.duplicated().sum()"
   ]
  },
  {
   "cell_type": "markdown",
   "id": "c2be0bd2-a66e-4fa4-8db6-5c11bae2ca81",
   "metadata": {},
   "source": [
    "### Save the prepared data into csv file."
   ]
  },
  {
   "cell_type": "code",
   "execution_count": 30,
   "id": "4cb38a10-32f0-4164-a6ac-e83160fe628a",
   "metadata": {},
   "outputs": [],
   "source": [
    "df.to_csv(DF_SAVE_PATH, index = False)"
   ]
  }
 ],
 "metadata": {
  "kernelspec": {
   "display_name": "Python 3 (ipykernel)",
   "language": "python",
   "name": "python3"
  },
  "language_info": {
   "codemirror_mode": {
    "name": "ipython",
    "version": 3
   },
   "file_extension": ".py",
   "mimetype": "text/x-python",
   "name": "python",
   "nbconvert_exporter": "python",
   "pygments_lexer": "ipython3",
   "version": "3.11.5"
  }
 },
 "nbformat": 4,
 "nbformat_minor": 5
}
