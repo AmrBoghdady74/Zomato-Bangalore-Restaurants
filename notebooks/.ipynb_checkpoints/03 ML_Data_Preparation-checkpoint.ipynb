{
 "cells": [
  {
   "cell_type": "markdown",
   "id": "c2f2c160-3e7d-44d1-8db1-f901df3d367e",
   "metadata": {},
   "source": [
    "## Zomato Bangalore Restaurants Prediction\n",
    "The basic idea of analyzing the Zomato dataset is to get a fair idea about the factors affecting the establishment\n",
    "of different types of restaurant at different places in Bengalur."
   ]
  },
  {
   "cell_type": "code",
   "execution_count": 1,
   "id": "7a207050-3f14-48d3-a75f-d17466d6ed49",
   "metadata": {},
   "outputs": [],
   "source": [
    "DF_PATH = '../data/raw/zomato.csv'\n",
    "DF_SAVE_PATH = '../data/processed/ML_zomato_processed.csv'"
   ]
  },
  {
   "cell_type": "markdown",
   "id": "0f8a9a86-79bd-419c-b9df-3d0b403f45a0",
   "metadata": {},
   "source": [
    "### Import libraries"
   ]
  },
  {
   "cell_type": "code",
   "execution_count": 2,
   "id": "f6026053-37e3-45db-b367-abc4163080e6",
   "metadata": {},
   "outputs": [],
   "source": [
    "import pandas as pd\n",
    "import numpy as np\n",
    "import matplotlib.pyplot as plt\n",
    "import seaborn as sns\n",
    "import plotly.express as px"
   ]
  },
  {
   "cell_type": "markdown",
   "id": "e7041762-9b13-47c6-a573-5113136c4f8b",
   "metadata": {},
   "source": [
    "### Read dataframe"
   ]
  },
  {
   "cell_type": "code",
   "execution_count": 3,
   "id": "19a7ad58-7886-4540-8255-bb9e10523283",
   "metadata": {},
   "outputs": [
    {
     "data": {
      "text/html": [
       "<div>\n",
       "<style scoped>\n",
       "    .dataframe tbody tr th:only-of-type {\n",
       "        vertical-align: middle;\n",
       "    }\n",
       "\n",
       "    .dataframe tbody tr th {\n",
       "        vertical-align: top;\n",
       "    }\n",
       "\n",
       "    .dataframe thead th {\n",
       "        text-align: right;\n",
       "    }\n",
       "</style>\n",
       "<table border=\"1\" class=\"dataframe\">\n",
       "  <thead>\n",
       "    <tr style=\"text-align: right;\">\n",
       "      <th></th>\n",
       "      <th>url</th>\n",
       "      <th>address</th>\n",
       "      <th>name</th>\n",
       "      <th>online_order</th>\n",
       "      <th>book_table</th>\n",
       "      <th>rate</th>\n",
       "      <th>votes</th>\n",
       "      <th>phone</th>\n",
       "      <th>location</th>\n",
       "      <th>rest_type</th>\n",
       "      <th>dish_liked</th>\n",
       "      <th>cuisines</th>\n",
       "      <th>approx_cost(for two people)</th>\n",
       "      <th>reviews_list</th>\n",
       "      <th>menu_item</th>\n",
       "      <th>listed_in(type)</th>\n",
       "      <th>listed_in(city)</th>\n",
       "    </tr>\n",
       "  </thead>\n",
       "  <tbody>\n",
       "    <tr>\n",
       "      <th>47354</th>\n",
       "      <td>https://www.zomato.com/bangalore/freshmenu-ric...</td>\n",
       "      <td>Richmond Town, Richmond Road, Bangalore</td>\n",
       "      <td>FreshMenu</td>\n",
       "      <td>Yes</td>\n",
       "      <td>No</td>\n",
       "      <td>3.6 /5</td>\n",
       "      <td>385</td>\n",
       "      <td>080 49653271</td>\n",
       "      <td>Central Bangalore</td>\n",
       "      <td>Delivery</td>\n",
       "      <td>Salads, Burgers, Salad, Potato Wedges, Chicken...</td>\n",
       "      <td>Continental, Asian, Healthy Food, Burger, Biry...</td>\n",
       "      <td>450</td>\n",
       "      <td>[('Rated 1.0', 'RATED\\n  I ordered a Paneer Ti...</td>\n",
       "      <td>['Jeera Rice and Smokey Butter Chicken', 'Mala...</td>\n",
       "      <td>Delivery</td>\n",
       "      <td>Residency Road</td>\n",
       "    </tr>\n",
       "    <tr>\n",
       "      <th>42677</th>\n",
       "      <td>https://www.zomato.com/bangalore/the-wok-shop-...</td>\n",
       "      <td>The Millenia, The Market Place Food Court, Lev...</td>\n",
       "      <td>The Wok Shop</td>\n",
       "      <td>Yes</td>\n",
       "      <td>No</td>\n",
       "      <td>3.4 /5</td>\n",
       "      <td>7</td>\n",
       "      <td>+91 8043745442</td>\n",
       "      <td>Ulsoor</td>\n",
       "      <td>Quick Bites</td>\n",
       "      <td>NaN</td>\n",
       "      <td>Asian, Chinese, Momos, Fast Food, Indonesian, ...</td>\n",
       "      <td>500</td>\n",
       "      <td>[('Rated 4.0', 'RATED\\n  Recently tried the Wo...</td>\n",
       "      <td>[]</td>\n",
       "      <td>Delivery</td>\n",
       "      <td>MG Road</td>\n",
       "    </tr>\n",
       "    <tr>\n",
       "      <th>37799</th>\n",
       "      <td>https://www.zomato.com/bangalore/cafe-cassia-d...</td>\n",
       "      <td>Cinnamon, Ground Floor, 24 Gangadhar Chetty Ro...</td>\n",
       "      <td>Cafe Cassia&amp; Deli</td>\n",
       "      <td>No</td>\n",
       "      <td>No</td>\n",
       "      <td>4.2 /5</td>\n",
       "      <td>116</td>\n",
       "      <td>080 41154102</td>\n",
       "      <td>Ulsoor</td>\n",
       "      <td>Casual Dining, Cafe</td>\n",
       "      <td>Coffee, Pasta, Tea</td>\n",
       "      <td>Lebanese, Mediterranean, Cafe</td>\n",
       "      <td>1,000</td>\n",
       "      <td>[('Rated 5.0', 'RATED\\n  Beautifully designed ...</td>\n",
       "      <td>[]</td>\n",
       "      <td>Cafes</td>\n",
       "      <td>Lavelle Road</td>\n",
       "    </tr>\n",
       "  </tbody>\n",
       "</table>\n",
       "</div>"
      ],
      "text/plain": [
       "                                                     url  \\\n",
       "47354  https://www.zomato.com/bangalore/freshmenu-ric...   \n",
       "42677  https://www.zomato.com/bangalore/the-wok-shop-...   \n",
       "37799  https://www.zomato.com/bangalore/cafe-cassia-d...   \n",
       "\n",
       "                                                 address               name  \\\n",
       "47354            Richmond Town, Richmond Road, Bangalore          FreshMenu   \n",
       "42677  The Millenia, The Market Place Food Court, Lev...       The Wok Shop   \n",
       "37799  Cinnamon, Ground Floor, 24 Gangadhar Chetty Ro...  Cafe Cassia& Deli   \n",
       "\n",
       "      online_order book_table    rate  votes           phone  \\\n",
       "47354          Yes         No  3.6 /5    385    080 49653271   \n",
       "42677          Yes         No  3.4 /5      7  +91 8043745442   \n",
       "37799           No         No  4.2 /5    116    080 41154102   \n",
       "\n",
       "                location            rest_type  \\\n",
       "47354  Central Bangalore             Delivery   \n",
       "42677             Ulsoor          Quick Bites   \n",
       "37799             Ulsoor  Casual Dining, Cafe   \n",
       "\n",
       "                                              dish_liked  \\\n",
       "47354  Salads, Burgers, Salad, Potato Wedges, Chicken...   \n",
       "42677                                                NaN   \n",
       "37799                                 Coffee, Pasta, Tea   \n",
       "\n",
       "                                                cuisines  \\\n",
       "47354  Continental, Asian, Healthy Food, Burger, Biry...   \n",
       "42677  Asian, Chinese, Momos, Fast Food, Indonesian, ...   \n",
       "37799                      Lebanese, Mediterranean, Cafe   \n",
       "\n",
       "      approx_cost(for two people)  \\\n",
       "47354                         450   \n",
       "42677                         500   \n",
       "37799                       1,000   \n",
       "\n",
       "                                            reviews_list  \\\n",
       "47354  [('Rated 1.0', 'RATED\\n  I ordered a Paneer Ti...   \n",
       "42677  [('Rated 4.0', 'RATED\\n  Recently tried the Wo...   \n",
       "37799  [('Rated 5.0', 'RATED\\n  Beautifully designed ...   \n",
       "\n",
       "                                               menu_item listed_in(type)  \\\n",
       "47354  ['Jeera Rice and Smokey Butter Chicken', 'Mala...        Delivery   \n",
       "42677                                                 []        Delivery   \n",
       "37799                                                 []           Cafes   \n",
       "\n",
       "      listed_in(city)  \n",
       "47354  Residency Road  \n",
       "42677         MG Road  \n",
       "37799    Lavelle Road  "
      ]
     },
     "execution_count": 3,
     "metadata": {},
     "output_type": "execute_result"
    }
   ],
   "source": [
    "df = pd.read_csv(DF_PATH)\n",
    "df.sample(3)"
   ]
  },
  {
   "cell_type": "markdown",
   "id": "ff70b7ea-ef66-4c96-9340-780f323aeed9",
   "metadata": {},
   "source": [
    "**To do list:**\n",
    "- Drop unneeded features: (name, url, address, phone, dish_liked, reviews_list, menu_item, votes).\n",
    "- Fix (rate, approx_cost) features problems.\n",
    "- Check null values and handle it.\n",
    "- Engineer features (cuisines, rest_type).\n",
    "- Remove duplicated rows.\n",
    "- Create Target Feature.\n",
    "- Save the prepared data into csv file."
   ]
  },
  {
   "cell_type": "markdown",
   "id": "ff4d4225-5354-4ab0-b801-e62b37a67337",
   "metadata": {},
   "source": [
    "---------"
   ]
  },
  {
   "cell_type": "markdown",
   "id": "d2848e6c-1aba-430b-adf7-da1e98a332f7",
   "metadata": {},
   "source": [
    "### Drop unneeded features: (url, address, phone, dish_liked, reviews_list, menu_item)."
   ]
  },
  {
   "cell_type": "code",
   "execution_count": 4,
   "id": "b924459e-9e87-495e-84a1-ecb441b202b4",
   "metadata": {},
   "outputs": [
    {
     "name": "stdout",
     "output_type": "stream",
     "text": [
      "<class 'pandas.core.frame.DataFrame'>\n",
      "RangeIndex: 51717 entries, 0 to 51716\n",
      "Data columns (total 9 columns):\n",
      " #   Column                       Non-Null Count  Dtype \n",
      "---  ------                       --------------  ----- \n",
      " 0   online_order                 51717 non-null  object\n",
      " 1   book_table                   51717 non-null  object\n",
      " 2   rate                         43942 non-null  object\n",
      " 3   location                     51696 non-null  object\n",
      " 4   rest_type                    51490 non-null  object\n",
      " 5   cuisines                     51672 non-null  object\n",
      " 6   approx_cost(for two people)  51371 non-null  object\n",
      " 7   listed_in(type)              51717 non-null  object\n",
      " 8   listed_in(city)              51717 non-null  object\n",
      "dtypes: object(9)\n",
      "memory usage: 3.6+ MB\n"
     ]
    }
   ],
   "source": [
    "cols_to_drop = ['name', 'url', 'address', 'phone', 'dish_liked', 'reviews_list', 'menu_item', 'votes']\n",
    "df.drop(cols_to_drop, axis = 1, inplace = True)\n",
    "df.info()"
   ]
  },
  {
   "cell_type": "markdown",
   "id": "38063ceb-17bd-4490-8968-e81cf752b50a",
   "metadata": {},
   "source": [
    "### Fix (rate, approx_cost) features problems."
   ]
  },
  {
   "cell_type": "code",
   "execution_count": 5,
   "id": "99d11393-ee43-480e-bbf2-f349e146afa3",
   "metadata": {},
   "outputs": [],
   "source": [
    "def fix_rate(rate):\n",
    "    try:\n",
    "        return float(rate[0:3])\n",
    "    except:\n",
    "        return np.nan"
   ]
  },
  {
   "cell_type": "code",
   "execution_count": 6,
   "id": "6d2f9e21-2420-4101-8a84-ec394fe53576",
   "metadata": {},
   "outputs": [
    {
     "data": {
      "text/plain": [
       "array([4.1, 3.8, 3.7, 3.6, 4.6, 4. , 4.2, 3.9, 3.1, 3. , 3.2, 3.3, 2.8,\n",
       "       4.4, 4.3, nan, 2.9, 3.5, 2.6, 3.4, 4.5, 2.5, 2.7, 4.7, 2.4, 2.2,\n",
       "       2.3, 4.8, 4.9, 2.1, 2. , 1.8])"
      ]
     },
     "execution_count": 6,
     "metadata": {},
     "output_type": "execute_result"
    }
   ],
   "source": [
    "df['rate'].apply(fix_rate).unique()"
   ]
  },
  {
   "cell_type": "code",
   "execution_count": 7,
   "id": "d791f9dd-3a30-419a-9287-1bca9f0e9aa2",
   "metadata": {},
   "outputs": [],
   "source": [
    "df['rate'] = df['rate'].apply(fix_rate)"
   ]
  },
  {
   "cell_type": "code",
   "execution_count": 8,
   "id": "76b0aea4-efa8-4a4f-92ce-236a9874af43",
   "metadata": {},
   "outputs": [
    {
     "data": {
      "text/plain": [
       "array([4.1, 3.8, 3.7, 3.6, 4.6, 4. , 4.2, 3.9, 3.1, 3. , 3.2, 3.3, 2.8,\n",
       "       4.4, 4.3, nan, 2.9, 3.5, 2.6, 3.4, 4.5, 2.5, 2.7, 4.7, 2.4, 2.2,\n",
       "       2.3, 4.8, 4.9, 2.1, 2. , 1.8])"
      ]
     },
     "execution_count": 8,
     "metadata": {},
     "output_type": "execute_result"
    }
   ],
   "source": [
    "df['rate'].unique()"
   ]
  },
  {
   "cell_type": "code",
   "execution_count": 9,
   "id": "a9e43560-8198-4ac1-9b19-d9bac5bbc066",
   "metadata": {},
   "outputs": [
    {
     "data": {
      "text/plain": [
       "array([ 800.,  300.,  600.,  700.,  550.,  500.,  450.,  650.,  400.,\n",
       "        900.,  200.,  750.,  150.,  850.,  100., 1200.,  350.,  250.,\n",
       "        950., 1000., 1500., 1300.,  199.,   80., 1100.,  160., 1600.,\n",
       "        230.,  130.,   50.,  190., 1700.,   nan, 1400.,  180., 1350.,\n",
       "       2200., 2000., 1800., 1900.,  330., 2500., 2100., 3000., 2800.,\n",
       "       3400.,   40., 1250., 3500., 4000., 2400., 2600.,  120., 1450.,\n",
       "        469.,   70., 3200.,   60.,  560.,  240.,  360., 6000., 1050.,\n",
       "       2300., 4100., 5000., 3700., 1650., 2700., 4500.,  140.])"
      ]
     },
     "execution_count": 9,
     "metadata": {},
     "output_type": "execute_result"
    }
   ],
   "source": [
    "df['approx_cost(for two people)'].astype(str).apply(lambda c : float(c.replace(\",\", \"\"))).unique()"
   ]
  },
  {
   "cell_type": "code",
   "execution_count": 10,
   "id": "100b8e55-b49e-45d7-be6e-60dcd451fb94",
   "metadata": {},
   "outputs": [],
   "source": [
    "df['approx_cost(for two people)'] = df['approx_cost(for two people)'].astype(str).apply(lambda c : float(c.replace(\",\", \"\")))"
   ]
  },
  {
   "cell_type": "code",
   "execution_count": 11,
   "id": "3862956e-e594-426e-bb4a-b10fcf18a6e3",
   "metadata": {},
   "outputs": [
    {
     "data": {
      "text/plain": [
       "array([ 800.,  300.,  600.,  700.,  550.,  500.,  450.,  650.,  400.,\n",
       "        900.,  200.,  750.,  150.,  850.,  100., 1200.,  350.,  250.,\n",
       "        950., 1000., 1500., 1300.,  199.,   80., 1100.,  160., 1600.,\n",
       "        230.,  130.,   50.,  190., 1700.,   nan, 1400.,  180., 1350.,\n",
       "       2200., 2000., 1800., 1900.,  330., 2500., 2100., 3000., 2800.,\n",
       "       3400.,   40., 1250., 3500., 4000., 2400., 2600.,  120., 1450.,\n",
       "        469.,   70., 3200.,   60.,  560.,  240.,  360., 6000., 1050.,\n",
       "       2300., 4100., 5000., 3700., 1650., 2700., 4500.,  140.])"
      ]
     },
     "execution_count": 11,
     "metadata": {},
     "output_type": "execute_result"
    }
   ],
   "source": [
    "df['approx_cost(for two people)'].unique()"
   ]
  },
  {
   "cell_type": "markdown",
   "id": "a3cca705-829e-435d-ae3e-af49e31ab97f",
   "metadata": {},
   "source": [
    "### Check null values and handle it."
   ]
  },
  {
   "cell_type": "code",
   "execution_count": 12,
   "id": "b1277d71-8fe9-4f92-900e-3006545b01b0",
   "metadata": {
    "scrolled": true
   },
   "outputs": [
    {
     "data": {
      "text/plain": [
       "online_order                    0.000000\n",
       "book_table                      0.000000\n",
       "rate                           19.436549\n",
       "location                        0.040606\n",
       "rest_type                       0.438927\n",
       "cuisines                        0.087012\n",
       "approx_cost(for two people)     0.669026\n",
       "listed_in(type)                 0.000000\n",
       "listed_in(city)                 0.000000\n",
       "dtype: float64"
      ]
     },
     "execution_count": 12,
     "metadata": {},
     "output_type": "execute_result"
    }
   ],
   "source": [
    "df.isna().mean() * 100"
   ]
  },
  {
   "cell_type": "markdown",
   "id": "afb49b58-c1ba-4691-af04-2aa1d86b7c54",
   "metadata": {},
   "source": [
    "> **Note:** The null values count are not many regarding the count of dataset, so we will drop these rows."
   ]
  },
  {
   "cell_type": "code",
   "execution_count": 13,
   "id": "2c6169e8-ac29-4b60-b0ab-836c9c6cff84",
   "metadata": {},
   "outputs": [],
   "source": [
    "df.dropna(axis = 0, inplace = True)"
   ]
  },
  {
   "cell_type": "code",
   "execution_count": 14,
   "id": "1363992e-8508-4e76-8e83-7cdec1be859a",
   "metadata": {},
   "outputs": [
    {
     "data": {
      "text/plain": [
       "online_order                   0.0\n",
       "book_table                     0.0\n",
       "rate                           0.0\n",
       "location                       0.0\n",
       "rest_type                      0.0\n",
       "cuisines                       0.0\n",
       "approx_cost(for two people)    0.0\n",
       "listed_in(type)                0.0\n",
       "listed_in(city)                0.0\n",
       "dtype: float64"
      ]
     },
     "execution_count": 14,
     "metadata": {},
     "output_type": "execute_result"
    }
   ],
   "source": [
    "df.isna().mean() * 100"
   ]
  },
  {
   "cell_type": "markdown",
   "id": "81ad9f09-cbf1-4f29-ba4e-1b4d02f93b4e",
   "metadata": {},
   "source": [
    "### Engineer features (cuisines, rest_type)."
   ]
  },
  {
   "cell_type": "code",
   "execution_count": 15,
   "id": "69a0d054-6d6d-4bd2-856e-a94c47531847",
   "metadata": {},
   "outputs": [],
   "source": [
    "df['rest_type_counts'] = df['rest_type'].astype(str).apply(lambda c : len(c.split(',')))"
   ]
  },
  {
   "cell_type": "code",
   "execution_count": 16,
   "id": "35b4dac6-b5ca-444f-9f6a-e1b6205c99c4",
   "metadata": {},
   "outputs": [],
   "source": [
    "df['cuisines_counts'] = df['cuisines'].astype(str).apply(lambda c : len(c.split(',')))"
   ]
  },
  {
   "cell_type": "markdown",
   "id": "7c5d75de-7a4d-4d02-be3d-46f53a230c4a",
   "metadata": {},
   "source": [
    "#### Drop 2 features (rest_type, cuisines)"
   ]
  },
  {
   "cell_type": "code",
   "execution_count": 17,
   "id": "e036ed59-a734-4334-925e-a5a937ccd643",
   "metadata": {},
   "outputs": [],
   "source": [
    "df.drop(['rest_type', 'cuisines'], axis = 1, inplace = True)"
   ]
  },
  {
   "cell_type": "code",
   "execution_count": 18,
   "id": "2fe5521d-c2c7-4afc-a22a-9e9e806be053",
   "metadata": {},
   "outputs": [
    {
     "name": "stdout",
     "output_type": "stream",
     "text": [
      "<class 'pandas.core.frame.DataFrame'>\n",
      "Index: 41263 entries, 0 to 51716\n",
      "Data columns (total 9 columns):\n",
      " #   Column                       Non-Null Count  Dtype  \n",
      "---  ------                       --------------  -----  \n",
      " 0   online_order                 41263 non-null  object \n",
      " 1   book_table                   41263 non-null  object \n",
      " 2   rate                         41263 non-null  float64\n",
      " 3   location                     41263 non-null  object \n",
      " 4   approx_cost(for two people)  41263 non-null  float64\n",
      " 5   listed_in(type)              41263 non-null  object \n",
      " 6   listed_in(city)              41263 non-null  object \n",
      " 7   rest_type_counts             41263 non-null  int64  \n",
      " 8   cuisines_counts              41263 non-null  int64  \n",
      "dtypes: float64(2), int64(2), object(5)\n",
      "memory usage: 3.1+ MB\n"
     ]
    }
   ],
   "source": [
    "df.info()"
   ]
  },
  {
   "cell_type": "markdown",
   "id": "9f4a075b-d35c-4487-9f43-b84804af35f1",
   "metadata": {},
   "source": [
    "### Remove duplicated rows."
   ]
  },
  {
   "cell_type": "code",
   "execution_count": 19,
   "id": "ad030405-cef8-4e0c-af72-4157ad30d662",
   "metadata": {},
   "outputs": [
    {
     "data": {
      "text/plain": [
       "2299"
      ]
     },
     "execution_count": 19,
     "metadata": {},
     "output_type": "execute_result"
    }
   ],
   "source": [
    "df.duplicated().sum()"
   ]
  },
  {
   "cell_type": "code",
   "execution_count": 20,
   "id": "34c363a8-0f1d-4608-a176-a0a826d52d38",
   "metadata": {},
   "outputs": [],
   "source": [
    "df.drop_duplicates(inplace = True)"
   ]
  },
  {
   "cell_type": "code",
   "execution_count": 21,
   "id": "1593d81e-ff02-4548-b0e3-46b0ee221a8f",
   "metadata": {},
   "outputs": [
    {
     "data": {
      "text/plain": [
       "0"
      ]
     },
     "execution_count": 21,
     "metadata": {},
     "output_type": "execute_result"
    }
   ],
   "source": [
    "df.duplicated().sum()"
   ]
  },
  {
   "cell_type": "markdown",
   "id": "d0c7cc15-6222-4797-84c3-6ff977504589",
   "metadata": {},
   "source": [
    "### Create Target Feature."
   ]
  },
  {
   "cell_type": "code",
   "execution_count": 22,
   "id": "c09e5de3-c385-4d0a-b6d2-1ea58ec86e68",
   "metadata": {},
   "outputs": [
    {
     "data": {
      "text/plain": [
       "count    38964.000000\n",
       "mean         3.705726\n",
       "std          0.446271\n",
       "min          1.800000\n",
       "25%          3.400000\n",
       "50%          3.700000\n",
       "75%          4.000000\n",
       "max          4.900000\n",
       "Name: rate, dtype: float64"
      ]
     },
     "execution_count": 22,
     "metadata": {},
     "output_type": "execute_result"
    }
   ],
   "source": [
    "df['rate'].describe()"
   ]
  },
  {
   "cell_type": "code",
   "execution_count": 23,
   "id": "4b8cc1dd-cd17-4558-8322-c9fc3c4ef073",
   "metadata": {},
   "outputs": [],
   "source": [
    "\n",
    "def create_target(rate):\n",
    "    try:\n",
    "        if rate >= 3.75:\n",
    "            return  1\n",
    "        else:\n",
    "            return 0\n",
    "    except:\n",
    "        return np.nan"
   ]
  },
  {
   "cell_type": "code",
   "execution_count": 24,
   "id": "12074b70-7282-4311-bc6c-e021c6b0f7fe",
   "metadata": {},
   "outputs": [
    {
     "name": "stdout",
     "output_type": "stream",
     "text": [
      "<class 'pandas.core.frame.DataFrame'>\n",
      "Index: 38964 entries, 0 to 51716\n",
      "Data columns (total 9 columns):\n",
      " #   Column                       Non-Null Count  Dtype  \n",
      "---  ------                       --------------  -----  \n",
      " 0   online_order                 38964 non-null  object \n",
      " 1   book_table                   38964 non-null  object \n",
      " 2   location                     38964 non-null  object \n",
      " 3   approx_cost(for two people)  38964 non-null  float64\n",
      " 4   listed_in(type)              38964 non-null  object \n",
      " 5   listed_in(city)              38964 non-null  object \n",
      " 6   rest_type_counts             38964 non-null  int64  \n",
      " 7   cuisines_counts              38964 non-null  int64  \n",
      " 8   success                      38964 non-null  int64  \n",
      "dtypes: float64(1), int64(3), object(5)\n",
      "memory usage: 3.0+ MB\n"
     ]
    }
   ],
   "source": [
    "df['success'] = df['rate'].apply(create_target)\n",
    "df.drop('rate', axis = 1, inplace = True)\n",
    "df.info()"
   ]
  },
  {
   "cell_type": "code",
   "execution_count": 25,
   "id": "29e931ba-898e-4c45-b9c2-08be48ccae3e",
   "metadata": {},
   "outputs": [
    {
     "data": {
      "text/plain": [
       "success\n",
       "0    19716\n",
       "1    19248\n",
       "Name: count, dtype: int64"
      ]
     },
     "execution_count": 25,
     "metadata": {},
     "output_type": "execute_result"
    }
   ],
   "source": [
    "df['success'].value_counts()"
   ]
  },
  {
   "cell_type": "markdown",
   "id": "c2be0bd2-a66e-4fa4-8db6-5c11bae2ca81",
   "metadata": {},
   "source": [
    "### Save the prepared data into csv file."
   ]
  },
  {
   "cell_type": "code",
   "execution_count": 26,
   "id": "4cb38a10-32f0-4164-a6ac-e83160fe628a",
   "metadata": {},
   "outputs": [],
   "source": [
    "df.to_csv(DF_SAVE_PATH, index = False)"
   ]
  }
 ],
 "metadata": {
  "kernelspec": {
   "display_name": "Python 3 (ipykernel)",
   "language": "python",
   "name": "python3"
  },
  "language_info": {
   "codemirror_mode": {
    "name": "ipython",
    "version": 3
   },
   "file_extension": ".py",
   "mimetype": "text/x-python",
   "name": "python",
   "nbconvert_exporter": "python",
   "pygments_lexer": "ipython3",
   "version": "3.11.5"
  }
 },
 "nbformat": 4,
 "nbformat_minor": 5
}
