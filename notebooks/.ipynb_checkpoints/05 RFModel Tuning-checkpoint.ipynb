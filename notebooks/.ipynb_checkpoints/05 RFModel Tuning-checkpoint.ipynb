{
 "cells": [
  {
   "cell_type": "markdown",
   "id": "bfd88d3a-075e-4e49-8730-70eedbfd1707",
   "metadata": {},
   "source": [
    "## Zomato Bangalore Restaurants Prediction\n",
    "The basic idea of analyzing the Zomato dataset is to get a fair idea about the factors affecting the establishment\n",
    "of different types of restaurant at different places in Bengalur."
   ]
  },
  {
   "cell_type": "code",
   "execution_count": 20,
   "id": "4d90a3e2-9018-4097-a95b-437abedf395b",
   "metadata": {},
   "outputs": [],
   "source": [
    "DF_PATH = '../data/processed/ML_zomato_processed.csv'\n",
    "MODEL_SAVE_PATH = '../models/last_model.pkl'\n",
    "INPUTS_SAVE_PATH = '../models/last_inputs.pkl'"
   ]
  },
  {
   "cell_type": "markdown",
   "id": "55cdac7c-f527-436a-9134-6b9e67b67d1a",
   "metadata": {},
   "source": [
    "### Import libraries"
   ]
  },
  {
   "cell_type": "code",
   "execution_count": 2,
   "id": "490130b8-ee0e-44e6-af33-cb1ac6af1c53",
   "metadata": {},
   "outputs": [],
   "source": [
    "import pandas as pd\n",
    "import numpy as np\n",
    "import matplotlib.pyplot as plt\n",
    "import seaborn as sns\n",
    "import plotly.express as px\n",
    "from sklearn.preprocessing import OneHotEncoder, RobustScaler\n",
    "from category_encoders import BinaryEncoder\n",
    "from sklearn.model_selection import cross_validate, GridSearchCV\n",
    "from sklearn.ensemble import RandomForestClassifier\n",
    "from sklearn.compose import ColumnTransformer\n",
    "from sklearn.pipeline import Pipeline"
   ]
  },
  {
   "cell_type": "markdown",
   "id": "c00a7c27-9121-46bc-b694-5a6de21ac1ac",
   "metadata": {},
   "source": [
    "### Read dataframe"
   ]
  },
  {
   "cell_type": "code",
   "execution_count": 3,
   "id": "1a3ee93e-c6ef-4442-a994-c04239f28d5f",
   "metadata": {},
   "outputs": [
    {
     "data": {
      "text/html": [
       "<div>\n",
       "<style scoped>\n",
       "    .dataframe tbody tr th:only-of-type {\n",
       "        vertical-align: middle;\n",
       "    }\n",
       "\n",
       "    .dataframe tbody tr th {\n",
       "        vertical-align: top;\n",
       "    }\n",
       "\n",
       "    .dataframe thead th {\n",
       "        text-align: right;\n",
       "    }\n",
       "</style>\n",
       "<table border=\"1\" class=\"dataframe\">\n",
       "  <thead>\n",
       "    <tr style=\"text-align: right;\">\n",
       "      <th></th>\n",
       "      <th>online_order</th>\n",
       "      <th>book_table</th>\n",
       "      <th>location</th>\n",
       "      <th>approx_cost(for two people)</th>\n",
       "      <th>listed_in(type)</th>\n",
       "      <th>listed_in(city)</th>\n",
       "      <th>rest_type_counts</th>\n",
       "      <th>cuisines_counts</th>\n",
       "      <th>success</th>\n",
       "    </tr>\n",
       "  </thead>\n",
       "  <tbody>\n",
       "    <tr>\n",
       "      <th>7531</th>\n",
       "      <td>No</td>\n",
       "      <td>No</td>\n",
       "      <td>Frazer Town</td>\n",
       "      <td>250.0</td>\n",
       "      <td>Delivery</td>\n",
       "      <td>Church Street</td>\n",
       "      <td>1</td>\n",
       "      <td>2</td>\n",
       "      <td>0</td>\n",
       "    </tr>\n",
       "    <tr>\n",
       "      <th>13382</th>\n",
       "      <td>Yes</td>\n",
       "      <td>No</td>\n",
       "      <td>BTM</td>\n",
       "      <td>400.0</td>\n",
       "      <td>Delivery</td>\n",
       "      <td>JP Nagar</td>\n",
       "      <td>1</td>\n",
       "      <td>1</td>\n",
       "      <td>0</td>\n",
       "    </tr>\n",
       "    <tr>\n",
       "      <th>7103</th>\n",
       "      <td>Yes</td>\n",
       "      <td>No</td>\n",
       "      <td>Vasanth Nagar</td>\n",
       "      <td>500.0</td>\n",
       "      <td>Cafes</td>\n",
       "      <td>Church Street</td>\n",
       "      <td>1</td>\n",
       "      <td>3</td>\n",
       "      <td>1</td>\n",
       "    </tr>\n",
       "  </tbody>\n",
       "</table>\n",
       "</div>"
      ],
      "text/plain": [
       "      online_order book_table       location  approx_cost(for two people)  \\\n",
       "7531            No         No    Frazer Town                        250.0   \n",
       "13382          Yes         No            BTM                        400.0   \n",
       "7103           Yes         No  Vasanth Nagar                        500.0   \n",
       "\n",
       "      listed_in(type) listed_in(city)  rest_type_counts  cuisines_counts  \\\n",
       "7531         Delivery   Church Street                 1                2   \n",
       "13382        Delivery        JP Nagar                 1                1   \n",
       "7103            Cafes   Church Street                 1                3   \n",
       "\n",
       "       success  \n",
       "7531         0  \n",
       "13382        0  \n",
       "7103         1  "
      ]
     },
     "execution_count": 3,
     "metadata": {},
     "output_type": "execute_result"
    }
   ],
   "source": [
    "df = pd.read_csv(DF_PATH)\n",
    "df.sample(3)"
   ]
  },
  {
   "cell_type": "code",
   "execution_count": 4,
   "id": "c4a06436-f3e1-45f3-bd4e-1c76cb23cc3f",
   "metadata": {},
   "outputs": [],
   "source": [
    "X = df.drop('success', axis = 1)\n",
    "y = df['success']"
   ]
  },
  {
   "cell_type": "markdown",
   "id": "caf09c97-7399-484d-a42e-e79e520671d0",
   "metadata": {},
   "source": [
    "### Create final pipline with best parameters"
   ]
  },
  {
   "cell_type": "code",
   "execution_count": 5,
   "id": "7e62f9af-0671-4b54-a0d4-654fe97780de",
   "metadata": {},
   "outputs": [
    {
     "data": {
      "text/plain": [
       "Index(['online_order', 'book_table', 'location', 'approx_cost(for two people)',\n",
       "       'listed_in(type)', 'listed_in(city)', 'rest_type_counts',\n",
       "       'cuisines_counts', 'success'],\n",
       "      dtype='object')"
      ]
     },
     "execution_count": 5,
     "metadata": {},
     "output_type": "execute_result"
    }
   ],
   "source": [
    "df.columns"
   ]
  },
  {
   "cell_type": "code",
   "execution_count": 6,
   "id": "39b1cc34-e2b5-4760-8a4c-12b7af9997fd",
   "metadata": {},
   "outputs": [],
   "source": [
    "Encoders = ColumnTransformer(transformers = [('OHE', OneHotEncoder(sparse_output = False, drop = 'first'), ['online_order', 'book_table']),\n",
    "                                             ('BE', BinaryEncoder(), ['location', 'listed_in(type)', 'listed_in(city)'])], \n",
    "                                             remainder = 'passthrough')"
   ]
  },
  {
   "cell_type": "code",
   "execution_count": 7,
   "id": "a56fb616-4b57-43e3-ac0e-8e72d8d8b720",
   "metadata": {},
   "outputs": [],
   "source": [
    "steps = []\n",
    "steps.append(('Encoders', Encoders))\n",
    "steps.append(('Scaler', RobustScaler()))\n",
    "steps.append(('RF', RandomForestClassifier()))\n",
    "pipline = Pipeline(steps = steps)"
   ]
  },
  {
   "cell_type": "code",
   "execution_count": 8,
   "id": "4cf99aeb-2c35-42a8-b2e7-810697c3d2c4",
   "metadata": {},
   "outputs": [],
   "source": [
    "params = {\n",
    "    'RF__n_estimators' : [50, 100, 200],\n",
    "    'RF__max_depth' : [5, 10, 15, 20],\n",
    "    'RF__min_samples_split' : [2, 5, 10],\n",
    "    'RF__min_samples_leaf' : [1, 2, 5],\n",
    "    'RF__max_features' : [0.5, 'sqrt', 'log2'],\n",
    "    'RF__ccp_alpha' : [0.0001, 0.001, 0.01]\n",
    "}"
   ]
  },
  {
   "cell_type": "code",
   "execution_count": 9,
   "id": "117ec95f-047d-41f5-b120-02e350f1a861",
   "metadata": {},
   "outputs": [],
   "source": [
    "grid = GridSearchCV(estimator = pipline, param_grid = params, cv = 5, scoring = 'accuracy', return_train_score = True)"
   ]
  },
  {
   "cell_type": "code",
   "execution_count": 10,
   "id": "d60ad0d6-ec77-41ae-99dc-8e201542fcf0",
   "metadata": {},
   "outputs": [
    {
     "data": {
      "text/html": [
       "<style>#sk-container-id-1 {color: black;}#sk-container-id-1 pre{padding: 0;}#sk-container-id-1 div.sk-toggleable {background-color: white;}#sk-container-id-1 label.sk-toggleable__label {cursor: pointer;display: block;width: 100%;margin-bottom: 0;padding: 0.3em;box-sizing: border-box;text-align: center;}#sk-container-id-1 label.sk-toggleable__label-arrow:before {content: \"▸\";float: left;margin-right: 0.25em;color: #696969;}#sk-container-id-1 label.sk-toggleable__label-arrow:hover:before {color: black;}#sk-container-id-1 div.sk-estimator:hover label.sk-toggleable__label-arrow:before {color: black;}#sk-container-id-1 div.sk-toggleable__content {max-height: 0;max-width: 0;overflow: hidden;text-align: left;background-color: #f0f8ff;}#sk-container-id-1 div.sk-toggleable__content pre {margin: 0.2em;color: black;border-radius: 0.25em;background-color: #f0f8ff;}#sk-container-id-1 input.sk-toggleable__control:checked~div.sk-toggleable__content {max-height: 200px;max-width: 100%;overflow: auto;}#sk-container-id-1 input.sk-toggleable__control:checked~label.sk-toggleable__label-arrow:before {content: \"▾\";}#sk-container-id-1 div.sk-estimator input.sk-toggleable__control:checked~label.sk-toggleable__label {background-color: #d4ebff;}#sk-container-id-1 div.sk-label input.sk-toggleable__control:checked~label.sk-toggleable__label {background-color: #d4ebff;}#sk-container-id-1 input.sk-hidden--visually {border: 0;clip: rect(1px 1px 1px 1px);clip: rect(1px, 1px, 1px, 1px);height: 1px;margin: -1px;overflow: hidden;padding: 0;position: absolute;width: 1px;}#sk-container-id-1 div.sk-estimator {font-family: monospace;background-color: #f0f8ff;border: 1px dotted black;border-radius: 0.25em;box-sizing: border-box;margin-bottom: 0.5em;}#sk-container-id-1 div.sk-estimator:hover {background-color: #d4ebff;}#sk-container-id-1 div.sk-parallel-item::after {content: \"\";width: 100%;border-bottom: 1px solid gray;flex-grow: 1;}#sk-container-id-1 div.sk-label:hover label.sk-toggleable__label {background-color: #d4ebff;}#sk-container-id-1 div.sk-serial::before {content: \"\";position: absolute;border-left: 1px solid gray;box-sizing: border-box;top: 0;bottom: 0;left: 50%;z-index: 0;}#sk-container-id-1 div.sk-serial {display: flex;flex-direction: column;align-items: center;background-color: white;padding-right: 0.2em;padding-left: 0.2em;position: relative;}#sk-container-id-1 div.sk-item {position: relative;z-index: 1;}#sk-container-id-1 div.sk-parallel {display: flex;align-items: stretch;justify-content: center;background-color: white;position: relative;}#sk-container-id-1 div.sk-item::before, #sk-container-id-1 div.sk-parallel-item::before {content: \"\";position: absolute;border-left: 1px solid gray;box-sizing: border-box;top: 0;bottom: 0;left: 50%;z-index: -1;}#sk-container-id-1 div.sk-parallel-item {display: flex;flex-direction: column;z-index: 1;position: relative;background-color: white;}#sk-container-id-1 div.sk-parallel-item:first-child::after {align-self: flex-end;width: 50%;}#sk-container-id-1 div.sk-parallel-item:last-child::after {align-self: flex-start;width: 50%;}#sk-container-id-1 div.sk-parallel-item:only-child::after {width: 0;}#sk-container-id-1 div.sk-dashed-wrapped {border: 1px dashed gray;margin: 0 0.4em 0.5em 0.4em;box-sizing: border-box;padding-bottom: 0.4em;background-color: white;}#sk-container-id-1 div.sk-label label {font-family: monospace;font-weight: bold;display: inline-block;line-height: 1.2em;}#sk-container-id-1 div.sk-label-container {text-align: center;}#sk-container-id-1 div.sk-container {/* jupyter's `normalize.less` sets `[hidden] { display: none; }` but bootstrap.min.css set `[hidden] { display: none !important; }` so we also need the `!important` here to be able to override the default hidden behavior on the sphinx rendered scikit-learn.org. See: https://github.com/scikit-learn/scikit-learn/issues/21755 */display: inline-block !important;position: relative;}#sk-container-id-1 div.sk-text-repr-fallback {display: none;}</style><div id=\"sk-container-id-1\" class=\"sk-top-container\"><div class=\"sk-text-repr-fallback\"><pre>GridSearchCV(cv=5,\n",
       "             estimator=Pipeline(steps=[(&#x27;Encoders&#x27;,\n",
       "                                        ColumnTransformer(remainder=&#x27;passthrough&#x27;,\n",
       "                                                          transformers=[(&#x27;OHE&#x27;,\n",
       "                                                                         OneHotEncoder(drop=&#x27;first&#x27;,\n",
       "                                                                                       sparse_output=False),\n",
       "                                                                         [&#x27;online_order&#x27;,\n",
       "                                                                          &#x27;book_table&#x27;]),\n",
       "                                                                        (&#x27;BE&#x27;,\n",
       "                                                                         BinaryEncoder(),\n",
       "                                                                         [&#x27;location&#x27;,\n",
       "                                                                          &#x27;listed_in(type)&#x27;,\n",
       "                                                                          &#x27;listed_in(city)&#x27;])])),\n",
       "                                       (&#x27;Scaler&#x27;, RobustScaler()),\n",
       "                                       (&#x27;RF&#x27;, RandomForestClassifier())]),\n",
       "             param_grid={&#x27;RF__ccp_alpha&#x27;: [0.0001, 0.001, 0.01],\n",
       "                         &#x27;RF__max_depth&#x27;: [5, 10, 15, 20],\n",
       "                         &#x27;RF__max_features&#x27;: [0.5, &#x27;sqrt&#x27;, &#x27;log2&#x27;],\n",
       "                         &#x27;RF__min_samples_leaf&#x27;: [1, 2, 5],\n",
       "                         &#x27;RF__min_samples_split&#x27;: [2, 5, 10],\n",
       "                         &#x27;RF__n_estimators&#x27;: [50, 100, 200]},\n",
       "             return_train_score=True, scoring=&#x27;accuracy&#x27;)</pre><b>In a Jupyter environment, please rerun this cell to show the HTML representation or trust the notebook. <br />On GitHub, the HTML representation is unable to render, please try loading this page with nbviewer.org.</b></div><div class=\"sk-container\" hidden><div class=\"sk-item sk-dashed-wrapped\"><div class=\"sk-label-container\"><div class=\"sk-label sk-toggleable\"><input class=\"sk-toggleable__control sk-hidden--visually\" id=\"sk-estimator-id-1\" type=\"checkbox\" ><label for=\"sk-estimator-id-1\" class=\"sk-toggleable__label sk-toggleable__label-arrow\">GridSearchCV</label><div class=\"sk-toggleable__content\"><pre>GridSearchCV(cv=5,\n",
       "             estimator=Pipeline(steps=[(&#x27;Encoders&#x27;,\n",
       "                                        ColumnTransformer(remainder=&#x27;passthrough&#x27;,\n",
       "                                                          transformers=[(&#x27;OHE&#x27;,\n",
       "                                                                         OneHotEncoder(drop=&#x27;first&#x27;,\n",
       "                                                                                       sparse_output=False),\n",
       "                                                                         [&#x27;online_order&#x27;,\n",
       "                                                                          &#x27;book_table&#x27;]),\n",
       "                                                                        (&#x27;BE&#x27;,\n",
       "                                                                         BinaryEncoder(),\n",
       "                                                                         [&#x27;location&#x27;,\n",
       "                                                                          &#x27;listed_in(type)&#x27;,\n",
       "                                                                          &#x27;listed_in(city)&#x27;])])),\n",
       "                                       (&#x27;Scaler&#x27;, RobustScaler()),\n",
       "                                       (&#x27;RF&#x27;, RandomForestClassifier())]),\n",
       "             param_grid={&#x27;RF__ccp_alpha&#x27;: [0.0001, 0.001, 0.01],\n",
       "                         &#x27;RF__max_depth&#x27;: [5, 10, 15, 20],\n",
       "                         &#x27;RF__max_features&#x27;: [0.5, &#x27;sqrt&#x27;, &#x27;log2&#x27;],\n",
       "                         &#x27;RF__min_samples_leaf&#x27;: [1, 2, 5],\n",
       "                         &#x27;RF__min_samples_split&#x27;: [2, 5, 10],\n",
       "                         &#x27;RF__n_estimators&#x27;: [50, 100, 200]},\n",
       "             return_train_score=True, scoring=&#x27;accuracy&#x27;)</pre></div></div></div><div class=\"sk-parallel\"><div class=\"sk-parallel-item\"><div class=\"sk-item\"><div class=\"sk-label-container\"><div class=\"sk-label sk-toggleable\"><input class=\"sk-toggleable__control sk-hidden--visually\" id=\"sk-estimator-id-2\" type=\"checkbox\" ><label for=\"sk-estimator-id-2\" class=\"sk-toggleable__label sk-toggleable__label-arrow\">estimator: Pipeline</label><div class=\"sk-toggleable__content\"><pre>Pipeline(steps=[(&#x27;Encoders&#x27;,\n",
       "                 ColumnTransformer(remainder=&#x27;passthrough&#x27;,\n",
       "                                   transformers=[(&#x27;OHE&#x27;,\n",
       "                                                  OneHotEncoder(drop=&#x27;first&#x27;,\n",
       "                                                                sparse_output=False),\n",
       "                                                  [&#x27;online_order&#x27;,\n",
       "                                                   &#x27;book_table&#x27;]),\n",
       "                                                 (&#x27;BE&#x27;, BinaryEncoder(),\n",
       "                                                  [&#x27;location&#x27;,\n",
       "                                                   &#x27;listed_in(type)&#x27;,\n",
       "                                                   &#x27;listed_in(city)&#x27;])])),\n",
       "                (&#x27;Scaler&#x27;, RobustScaler()), (&#x27;RF&#x27;, RandomForestClassifier())])</pre></div></div></div><div class=\"sk-serial\"><div class=\"sk-item\"><div class=\"sk-serial\"><div class=\"sk-item sk-dashed-wrapped\"><div class=\"sk-label-container\"><div class=\"sk-label sk-toggleable\"><input class=\"sk-toggleable__control sk-hidden--visually\" id=\"sk-estimator-id-3\" type=\"checkbox\" ><label for=\"sk-estimator-id-3\" class=\"sk-toggleable__label sk-toggleable__label-arrow\">Encoders: ColumnTransformer</label><div class=\"sk-toggleable__content\"><pre>ColumnTransformer(remainder=&#x27;passthrough&#x27;,\n",
       "                  transformers=[(&#x27;OHE&#x27;,\n",
       "                                 OneHotEncoder(drop=&#x27;first&#x27;,\n",
       "                                               sparse_output=False),\n",
       "                                 [&#x27;online_order&#x27;, &#x27;book_table&#x27;]),\n",
       "                                (&#x27;BE&#x27;, BinaryEncoder(),\n",
       "                                 [&#x27;location&#x27;, &#x27;listed_in(type)&#x27;,\n",
       "                                  &#x27;listed_in(city)&#x27;])])</pre></div></div></div><div class=\"sk-parallel\"><div class=\"sk-parallel-item\"><div class=\"sk-item\"><div class=\"sk-label-container\"><div class=\"sk-label sk-toggleable\"><input class=\"sk-toggleable__control sk-hidden--visually\" id=\"sk-estimator-id-4\" type=\"checkbox\" ><label for=\"sk-estimator-id-4\" class=\"sk-toggleable__label sk-toggleable__label-arrow\">OHE</label><div class=\"sk-toggleable__content\"><pre>[&#x27;online_order&#x27;, &#x27;book_table&#x27;]</pre></div></div></div><div class=\"sk-serial\"><div class=\"sk-item\"><div class=\"sk-estimator sk-toggleable\"><input class=\"sk-toggleable__control sk-hidden--visually\" id=\"sk-estimator-id-5\" type=\"checkbox\" ><label for=\"sk-estimator-id-5\" class=\"sk-toggleable__label sk-toggleable__label-arrow\">OneHotEncoder</label><div class=\"sk-toggleable__content\"><pre>OneHotEncoder(drop=&#x27;first&#x27;, sparse_output=False)</pre></div></div></div></div></div></div><div class=\"sk-parallel-item\"><div class=\"sk-item\"><div class=\"sk-label-container\"><div class=\"sk-label sk-toggleable\"><input class=\"sk-toggleable__control sk-hidden--visually\" id=\"sk-estimator-id-6\" type=\"checkbox\" ><label for=\"sk-estimator-id-6\" class=\"sk-toggleable__label sk-toggleable__label-arrow\">BE</label><div class=\"sk-toggleable__content\"><pre>[&#x27;location&#x27;, &#x27;listed_in(type)&#x27;, &#x27;listed_in(city)&#x27;]</pre></div></div></div><div class=\"sk-serial\"><div class=\"sk-item\"><div class=\"sk-estimator sk-toggleable\"><input class=\"sk-toggleable__control sk-hidden--visually\" id=\"sk-estimator-id-7\" type=\"checkbox\" ><label for=\"sk-estimator-id-7\" class=\"sk-toggleable__label sk-toggleable__label-arrow\">BinaryEncoder</label><div class=\"sk-toggleable__content\"><pre>BinaryEncoder()</pre></div></div></div></div></div></div><div class=\"sk-parallel-item\"><div class=\"sk-item\"><div class=\"sk-label-container\"><div class=\"sk-label sk-toggleable\"><input class=\"sk-toggleable__control sk-hidden--visually\" id=\"sk-estimator-id-8\" type=\"checkbox\" ><label for=\"sk-estimator-id-8\" class=\"sk-toggleable__label sk-toggleable__label-arrow\">remainder</label><div class=\"sk-toggleable__content\"><pre></pre></div></div></div><div class=\"sk-serial\"><div class=\"sk-item\"><div class=\"sk-estimator sk-toggleable\"><input class=\"sk-toggleable__control sk-hidden--visually\" id=\"sk-estimator-id-9\" type=\"checkbox\" ><label for=\"sk-estimator-id-9\" class=\"sk-toggleable__label sk-toggleable__label-arrow\">passthrough</label><div class=\"sk-toggleable__content\"><pre>passthrough</pre></div></div></div></div></div></div></div></div><div class=\"sk-item\"><div class=\"sk-estimator sk-toggleable\"><input class=\"sk-toggleable__control sk-hidden--visually\" id=\"sk-estimator-id-10\" type=\"checkbox\" ><label for=\"sk-estimator-id-10\" class=\"sk-toggleable__label sk-toggleable__label-arrow\">RobustScaler</label><div class=\"sk-toggleable__content\"><pre>RobustScaler()</pre></div></div></div><div class=\"sk-item\"><div class=\"sk-estimator sk-toggleable\"><input class=\"sk-toggleable__control sk-hidden--visually\" id=\"sk-estimator-id-11\" type=\"checkbox\" ><label for=\"sk-estimator-id-11\" class=\"sk-toggleable__label sk-toggleable__label-arrow\">RandomForestClassifier</label><div class=\"sk-toggleable__content\"><pre>RandomForestClassifier()</pre></div></div></div></div></div></div></div></div></div></div></div></div>"
      ],
      "text/plain": [
       "GridSearchCV(cv=5,\n",
       "             estimator=Pipeline(steps=[('Encoders',\n",
       "                                        ColumnTransformer(remainder='passthrough',\n",
       "                                                          transformers=[('OHE',\n",
       "                                                                         OneHotEncoder(drop='first',\n",
       "                                                                                       sparse_output=False),\n",
       "                                                                         ['online_order',\n",
       "                                                                          'book_table']),\n",
       "                                                                        ('BE',\n",
       "                                                                         BinaryEncoder(),\n",
       "                                                                         ['location',\n",
       "                                                                          'listed_in(type)',\n",
       "                                                                          'listed_in(city)'])])),\n",
       "                                       ('Scaler', RobustScaler()),\n",
       "                                       ('RF', RandomForestClassifier())]),\n",
       "             param_grid={'RF__ccp_alpha': [0.0001, 0.001, 0.01],\n",
       "                         'RF__max_depth': [5, 10, 15, 20],\n",
       "                         'RF__max_features': [0.5, 'sqrt', 'log2'],\n",
       "                         'RF__min_samples_leaf': [1, 2, 5],\n",
       "                         'RF__min_samples_split': [2, 5, 10],\n",
       "                         'RF__n_estimators': [50, 100, 200]},\n",
       "             return_train_score=True, scoring='accuracy')"
      ]
     },
     "execution_count": 10,
     "metadata": {},
     "output_type": "execute_result"
    }
   ],
   "source": [
    "grid.fit(X, y)"
   ]
  },
  {
   "cell_type": "code",
   "execution_count": 11,
   "id": "805fe5bb-7964-44d9-b3aa-d9071047436a",
   "metadata": {},
   "outputs": [
    {
     "data": {
      "text/plain": [
       "{'RF__ccp_alpha': 0.0001,\n",
       " 'RF__max_depth': 20,\n",
       " 'RF__max_features': 0.5,\n",
       " 'RF__min_samples_leaf': 1,\n",
       " 'RF__min_samples_split': 5,\n",
       " 'RF__n_estimators': 200}"
      ]
     },
     "execution_count": 11,
     "metadata": {},
     "output_type": "execute_result"
    }
   ],
   "source": [
    "grid.best_params_"
   ]
  },
  {
   "cell_type": "code",
   "execution_count": 12,
   "id": "57414089-2282-40e1-a2ea-690d7b614201",
   "metadata": {},
   "outputs": [
    {
     "data": {
      "text/plain": [
       "248"
      ]
     },
     "execution_count": 12,
     "metadata": {},
     "output_type": "execute_result"
    }
   ],
   "source": [
    "grid.best_index_"
   ]
  },
  {
   "cell_type": "code",
   "execution_count": 13,
   "id": "48aaf83d-5d4e-48c9-8994-4bce14706612",
   "metadata": {},
   "outputs": [
    {
     "data": {
      "text/plain": [
       "0.8357676001983366"
      ]
     },
     "execution_count": 13,
     "metadata": {},
     "output_type": "execute_result"
    }
   ],
   "source": [
    "grid.cv_results_['mean_train_score'][grid.best_index_]"
   ]
  },
  {
   "cell_type": "code",
   "execution_count": 14,
   "id": "22ec5a13-181b-4621-9a2d-0dab296171ff",
   "metadata": {},
   "outputs": [
    {
     "data": {
      "text/plain": [
       "0.7656662764663438"
      ]
     },
     "execution_count": 14,
     "metadata": {},
     "output_type": "execute_result"
    }
   ],
   "source": [
    "grid.cv_results_['mean_test_score'][grid.best_index_]"
   ]
  },
  {
   "cell_type": "code",
   "execution_count": 15,
   "id": "d6a344b6-1525-420f-a8ae-c54edbd137d8",
   "metadata": {},
   "outputs": [],
   "source": [
    "final_model = grid.best_estimator_"
   ]
  },
  {
   "cell_type": "code",
   "execution_count": 16,
   "id": "b63fca09-23b3-41b5-8b40-671477b82eea",
   "metadata": {},
   "outputs": [
    {
     "data": {
      "text/html": [
       "<style>#sk-container-id-2 {color: black;}#sk-container-id-2 pre{padding: 0;}#sk-container-id-2 div.sk-toggleable {background-color: white;}#sk-container-id-2 label.sk-toggleable__label {cursor: pointer;display: block;width: 100%;margin-bottom: 0;padding: 0.3em;box-sizing: border-box;text-align: center;}#sk-container-id-2 label.sk-toggleable__label-arrow:before {content: \"▸\";float: left;margin-right: 0.25em;color: #696969;}#sk-container-id-2 label.sk-toggleable__label-arrow:hover:before {color: black;}#sk-container-id-2 div.sk-estimator:hover label.sk-toggleable__label-arrow:before {color: black;}#sk-container-id-2 div.sk-toggleable__content {max-height: 0;max-width: 0;overflow: hidden;text-align: left;background-color: #f0f8ff;}#sk-container-id-2 div.sk-toggleable__content pre {margin: 0.2em;color: black;border-radius: 0.25em;background-color: #f0f8ff;}#sk-container-id-2 input.sk-toggleable__control:checked~div.sk-toggleable__content {max-height: 200px;max-width: 100%;overflow: auto;}#sk-container-id-2 input.sk-toggleable__control:checked~label.sk-toggleable__label-arrow:before {content: \"▾\";}#sk-container-id-2 div.sk-estimator input.sk-toggleable__control:checked~label.sk-toggleable__label {background-color: #d4ebff;}#sk-container-id-2 div.sk-label input.sk-toggleable__control:checked~label.sk-toggleable__label {background-color: #d4ebff;}#sk-container-id-2 input.sk-hidden--visually {border: 0;clip: rect(1px 1px 1px 1px);clip: rect(1px, 1px, 1px, 1px);height: 1px;margin: -1px;overflow: hidden;padding: 0;position: absolute;width: 1px;}#sk-container-id-2 div.sk-estimator {font-family: monospace;background-color: #f0f8ff;border: 1px dotted black;border-radius: 0.25em;box-sizing: border-box;margin-bottom: 0.5em;}#sk-container-id-2 div.sk-estimator:hover {background-color: #d4ebff;}#sk-container-id-2 div.sk-parallel-item::after {content: \"\";width: 100%;border-bottom: 1px solid gray;flex-grow: 1;}#sk-container-id-2 div.sk-label:hover label.sk-toggleable__label {background-color: #d4ebff;}#sk-container-id-2 div.sk-serial::before {content: \"\";position: absolute;border-left: 1px solid gray;box-sizing: border-box;top: 0;bottom: 0;left: 50%;z-index: 0;}#sk-container-id-2 div.sk-serial {display: flex;flex-direction: column;align-items: center;background-color: white;padding-right: 0.2em;padding-left: 0.2em;position: relative;}#sk-container-id-2 div.sk-item {position: relative;z-index: 1;}#sk-container-id-2 div.sk-parallel {display: flex;align-items: stretch;justify-content: center;background-color: white;position: relative;}#sk-container-id-2 div.sk-item::before, #sk-container-id-2 div.sk-parallel-item::before {content: \"\";position: absolute;border-left: 1px solid gray;box-sizing: border-box;top: 0;bottom: 0;left: 50%;z-index: -1;}#sk-container-id-2 div.sk-parallel-item {display: flex;flex-direction: column;z-index: 1;position: relative;background-color: white;}#sk-container-id-2 div.sk-parallel-item:first-child::after {align-self: flex-end;width: 50%;}#sk-container-id-2 div.sk-parallel-item:last-child::after {align-self: flex-start;width: 50%;}#sk-container-id-2 div.sk-parallel-item:only-child::after {width: 0;}#sk-container-id-2 div.sk-dashed-wrapped {border: 1px dashed gray;margin: 0 0.4em 0.5em 0.4em;box-sizing: border-box;padding-bottom: 0.4em;background-color: white;}#sk-container-id-2 div.sk-label label {font-family: monospace;font-weight: bold;display: inline-block;line-height: 1.2em;}#sk-container-id-2 div.sk-label-container {text-align: center;}#sk-container-id-2 div.sk-container {/* jupyter's `normalize.less` sets `[hidden] { display: none; }` but bootstrap.min.css set `[hidden] { display: none !important; }` so we also need the `!important` here to be able to override the default hidden behavior on the sphinx rendered scikit-learn.org. See: https://github.com/scikit-learn/scikit-learn/issues/21755 */display: inline-block !important;position: relative;}#sk-container-id-2 div.sk-text-repr-fallback {display: none;}</style><div id=\"sk-container-id-2\" class=\"sk-top-container\"><div class=\"sk-text-repr-fallback\"><pre>Pipeline(steps=[(&#x27;Encoders&#x27;,\n",
       "                 ColumnTransformer(remainder=&#x27;passthrough&#x27;,\n",
       "                                   transformers=[(&#x27;OHE&#x27;,\n",
       "                                                  OneHotEncoder(drop=&#x27;first&#x27;,\n",
       "                                                                sparse_output=False),\n",
       "                                                  [&#x27;online_order&#x27;,\n",
       "                                                   &#x27;book_table&#x27;]),\n",
       "                                                 (&#x27;BE&#x27;, BinaryEncoder(),\n",
       "                                                  [&#x27;location&#x27;,\n",
       "                                                   &#x27;listed_in(type)&#x27;,\n",
       "                                                   &#x27;listed_in(city)&#x27;])])),\n",
       "                (&#x27;Scaler&#x27;, RobustScaler()),\n",
       "                (&#x27;RF&#x27;,\n",
       "                 RandomForestClassifier(ccp_alpha=0.0001, max_depth=20,\n",
       "                                        max_features=0.5, min_samples_split=5,\n",
       "                                        n_estimators=200))])</pre><b>In a Jupyter environment, please rerun this cell to show the HTML representation or trust the notebook. <br />On GitHub, the HTML representation is unable to render, please try loading this page with nbviewer.org.</b></div><div class=\"sk-container\" hidden><div class=\"sk-item sk-dashed-wrapped\"><div class=\"sk-label-container\"><div class=\"sk-label sk-toggleable\"><input class=\"sk-toggleable__control sk-hidden--visually\" id=\"sk-estimator-id-12\" type=\"checkbox\" ><label for=\"sk-estimator-id-12\" class=\"sk-toggleable__label sk-toggleable__label-arrow\">Pipeline</label><div class=\"sk-toggleable__content\"><pre>Pipeline(steps=[(&#x27;Encoders&#x27;,\n",
       "                 ColumnTransformer(remainder=&#x27;passthrough&#x27;,\n",
       "                                   transformers=[(&#x27;OHE&#x27;,\n",
       "                                                  OneHotEncoder(drop=&#x27;first&#x27;,\n",
       "                                                                sparse_output=False),\n",
       "                                                  [&#x27;online_order&#x27;,\n",
       "                                                   &#x27;book_table&#x27;]),\n",
       "                                                 (&#x27;BE&#x27;, BinaryEncoder(),\n",
       "                                                  [&#x27;location&#x27;,\n",
       "                                                   &#x27;listed_in(type)&#x27;,\n",
       "                                                   &#x27;listed_in(city)&#x27;])])),\n",
       "                (&#x27;Scaler&#x27;, RobustScaler()),\n",
       "                (&#x27;RF&#x27;,\n",
       "                 RandomForestClassifier(ccp_alpha=0.0001, max_depth=20,\n",
       "                                        max_features=0.5, min_samples_split=5,\n",
       "                                        n_estimators=200))])</pre></div></div></div><div class=\"sk-serial\"><div class=\"sk-item sk-dashed-wrapped\"><div class=\"sk-label-container\"><div class=\"sk-label sk-toggleable\"><input class=\"sk-toggleable__control sk-hidden--visually\" id=\"sk-estimator-id-13\" type=\"checkbox\" ><label for=\"sk-estimator-id-13\" class=\"sk-toggleable__label sk-toggleable__label-arrow\">Encoders: ColumnTransformer</label><div class=\"sk-toggleable__content\"><pre>ColumnTransformer(remainder=&#x27;passthrough&#x27;,\n",
       "                  transformers=[(&#x27;OHE&#x27;,\n",
       "                                 OneHotEncoder(drop=&#x27;first&#x27;,\n",
       "                                               sparse_output=False),\n",
       "                                 [&#x27;online_order&#x27;, &#x27;book_table&#x27;]),\n",
       "                                (&#x27;BE&#x27;, BinaryEncoder(),\n",
       "                                 [&#x27;location&#x27;, &#x27;listed_in(type)&#x27;,\n",
       "                                  &#x27;listed_in(city)&#x27;])])</pre></div></div></div><div class=\"sk-parallel\"><div class=\"sk-parallel-item\"><div class=\"sk-item\"><div class=\"sk-label-container\"><div class=\"sk-label sk-toggleable\"><input class=\"sk-toggleable__control sk-hidden--visually\" id=\"sk-estimator-id-14\" type=\"checkbox\" ><label for=\"sk-estimator-id-14\" class=\"sk-toggleable__label sk-toggleable__label-arrow\">OHE</label><div class=\"sk-toggleable__content\"><pre>[&#x27;online_order&#x27;, &#x27;book_table&#x27;]</pre></div></div></div><div class=\"sk-serial\"><div class=\"sk-item\"><div class=\"sk-estimator sk-toggleable\"><input class=\"sk-toggleable__control sk-hidden--visually\" id=\"sk-estimator-id-15\" type=\"checkbox\" ><label for=\"sk-estimator-id-15\" class=\"sk-toggleable__label sk-toggleable__label-arrow\">OneHotEncoder</label><div class=\"sk-toggleable__content\"><pre>OneHotEncoder(drop=&#x27;first&#x27;, sparse_output=False)</pre></div></div></div></div></div></div><div class=\"sk-parallel-item\"><div class=\"sk-item\"><div class=\"sk-label-container\"><div class=\"sk-label sk-toggleable\"><input class=\"sk-toggleable__control sk-hidden--visually\" id=\"sk-estimator-id-16\" type=\"checkbox\" ><label for=\"sk-estimator-id-16\" class=\"sk-toggleable__label sk-toggleable__label-arrow\">BE</label><div class=\"sk-toggleable__content\"><pre>[&#x27;location&#x27;, &#x27;listed_in(type)&#x27;, &#x27;listed_in(city)&#x27;]</pre></div></div></div><div class=\"sk-serial\"><div class=\"sk-item\"><div class=\"sk-estimator sk-toggleable\"><input class=\"sk-toggleable__control sk-hidden--visually\" id=\"sk-estimator-id-17\" type=\"checkbox\" ><label for=\"sk-estimator-id-17\" class=\"sk-toggleable__label sk-toggleable__label-arrow\">BinaryEncoder</label><div class=\"sk-toggleable__content\"><pre>BinaryEncoder()</pre></div></div></div></div></div></div><div class=\"sk-parallel-item\"><div class=\"sk-item\"><div class=\"sk-label-container\"><div class=\"sk-label sk-toggleable\"><input class=\"sk-toggleable__control sk-hidden--visually\" id=\"sk-estimator-id-18\" type=\"checkbox\" ><label for=\"sk-estimator-id-18\" class=\"sk-toggleable__label sk-toggleable__label-arrow\">remainder</label><div class=\"sk-toggleable__content\"><pre>[&#x27;approx_cost(for two people)&#x27;, &#x27;rest_type_counts&#x27;, &#x27;cuisines_counts&#x27;]</pre></div></div></div><div class=\"sk-serial\"><div class=\"sk-item\"><div class=\"sk-estimator sk-toggleable\"><input class=\"sk-toggleable__control sk-hidden--visually\" id=\"sk-estimator-id-19\" type=\"checkbox\" ><label for=\"sk-estimator-id-19\" class=\"sk-toggleable__label sk-toggleable__label-arrow\">passthrough</label><div class=\"sk-toggleable__content\"><pre>passthrough</pre></div></div></div></div></div></div></div></div><div class=\"sk-item\"><div class=\"sk-estimator sk-toggleable\"><input class=\"sk-toggleable__control sk-hidden--visually\" id=\"sk-estimator-id-20\" type=\"checkbox\" ><label for=\"sk-estimator-id-20\" class=\"sk-toggleable__label sk-toggleable__label-arrow\">RobustScaler</label><div class=\"sk-toggleable__content\"><pre>RobustScaler()</pre></div></div></div><div class=\"sk-item\"><div class=\"sk-estimator sk-toggleable\"><input class=\"sk-toggleable__control sk-hidden--visually\" id=\"sk-estimator-id-21\" type=\"checkbox\" ><label for=\"sk-estimator-id-21\" class=\"sk-toggleable__label sk-toggleable__label-arrow\">RandomForestClassifier</label><div class=\"sk-toggleable__content\"><pre>RandomForestClassifier(ccp_alpha=0.0001, max_depth=20, max_features=0.5,\n",
       "                       min_samples_split=5, n_estimators=200)</pre></div></div></div></div></div></div></div>"
      ],
      "text/plain": [
       "Pipeline(steps=[('Encoders',\n",
       "                 ColumnTransformer(remainder='passthrough',\n",
       "                                   transformers=[('OHE',\n",
       "                                                  OneHotEncoder(drop='first',\n",
       "                                                                sparse_output=False),\n",
       "                                                  ['online_order',\n",
       "                                                   'book_table']),\n",
       "                                                 ('BE', BinaryEncoder(),\n",
       "                                                  ['location',\n",
       "                                                   'listed_in(type)',\n",
       "                                                   'listed_in(city)'])])),\n",
       "                ('Scaler', RobustScaler()),\n",
       "                ('RF',\n",
       "                 RandomForestClassifier(ccp_alpha=0.0001, max_depth=20,\n",
       "                                        max_features=0.5, min_samples_split=5,\n",
       "                                        n_estimators=200))])"
      ]
     },
     "execution_count": 16,
     "metadata": {},
     "output_type": "execute_result"
    }
   ],
   "source": [
    "final_model.fit(X, y)"
   ]
  },
  {
   "cell_type": "markdown",
   "id": "d4386075-8dfe-405c-9d68-0ee7575e0651",
   "metadata": {},
   "source": [
    "### Save ourmodel into pkl file"
   ]
  },
  {
   "cell_type": "code",
   "execution_count": 17,
   "id": "e19f69ca-981a-46f5-a37a-41bcb45a07ae",
   "metadata": {},
   "outputs": [],
   "source": [
    "import joblib"
   ]
  },
  {
   "cell_type": "code",
   "execution_count": 19,
   "id": "0622017b-f667-470c-aac8-48e8bc3e4616",
   "metadata": {},
   "outputs": [
    {
     "data": {
      "text/plain": [
       "['../models/last_model.pkl']"
      ]
     },
     "execution_count": 19,
     "metadata": {},
     "output_type": "execute_result"
    }
   ],
   "source": [
    "joblib.dump(final_model, MODEL_SAVE_PATH, compress = 2)"
   ]
  },
  {
   "cell_type": "code",
   "execution_count": 22,
   "id": "f8233836-fa50-4293-815d-8f19cac505af",
   "metadata": {},
   "outputs": [
    {
     "data": {
      "text/plain": [
       "['../models/last_inputs.pkl']"
      ]
     },
     "execution_count": 22,
     "metadata": {},
     "output_type": "execute_result"
    }
   ],
   "source": [
    "joblib.dump(X.columns, INPUTS_SAVE_PATH, compress = 2)"
   ]
  }
 ],
 "metadata": {
  "kernelspec": {
   "display_name": "Python 3 (ipykernel)",
   "language": "python",
   "name": "python3"
  },
  "language_info": {
   "codemirror_mode": {
    "name": "ipython",
    "version": 3
   },
   "file_extension": ".py",
   "mimetype": "text/x-python",
   "name": "python",
   "nbconvert_exporter": "python",
   "pygments_lexer": "ipython3",
   "version": "3.11.5"
  }
 },
 "nbformat": 4,
 "nbformat_minor": 5
}
