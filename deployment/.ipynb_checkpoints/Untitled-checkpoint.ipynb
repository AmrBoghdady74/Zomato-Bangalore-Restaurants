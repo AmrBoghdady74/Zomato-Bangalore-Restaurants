{
 "cells": [
  {
   "cell_type": "code",
   "execution_count": 22,
   "id": "16c8f71b-8e98-4fce-beff-a4027f0d5a91",
   "metadata": {},
   "outputs": [],
   "source": [
    "import streamlit as st\n",
    "import pandas as pd\n",
    "import joblib\n",
    "import sklearn\n",
    "import category_encoders"
   ]
  },
  {
   "cell_type": "code",
   "execution_count": 23,
   "id": "01e5ffdd-52fa-4151-bfc7-c223d6d69af3",
   "metadata": {},
   "outputs": [],
   "source": [
    "DF_PATH = '../data/processed/ML_zomato_processed.csv'"
   ]
  },
  {
   "cell_type": "code",
   "execution_count": 24,
   "id": "31550fd8-f901-494e-ace6-bb4a3b9f4947",
   "metadata": {},
   "outputs": [],
   "source": [
    "MODEL_PATH = '../models/last_model.pkl'\n",
    "INPUTS_PATH = '../models/last_inputs.pkl'"
   ]
  },
  {
   "cell_type": "code",
   "execution_count": 25,
   "id": "59e4204e-86e7-4b38-b35f-0cad07a8dfb0",
   "metadata": {},
   "outputs": [],
   "source": [
    "model = joblib.load(MODEL_PATH)\n",
    "inputs = joblib.load(INPUTS_PATH)"
   ]
  },
  {
   "cell_type": "code",
   "execution_count": 26,
   "id": "1c1e76d3-8793-4637-9e13-8f2d7b2c0e8f",
   "metadata": {},
   "outputs": [
    {
     "data": {
      "text/plain": [
       "Index(['online_order', 'book_table', 'location', 'approx_cost(for two people)',\n",
       "       'listed_in(type)', 'listed_in(city)', 'rest_type_counts',\n",
       "       'cuisines_counts'],\n",
       "      dtype='object')"
      ]
     },
     "execution_count": 26,
     "metadata": {},
     "output_type": "execute_result"
    }
   ],
   "source": [
    "inputs"
   ]
  },
  {
   "cell_type": "code",
   "execution_count": 27,
   "id": "6d5e3b11-074c-4236-886c-48e429ac6247",
   "metadata": {},
   "outputs": [
    {
     "name": "stdout",
     "output_type": "stream",
     "text": [
      "<class 'pandas.core.frame.DataFrame'>\n",
      "RangeIndex: 32013 entries, 0 to 32012\n",
      "Data columns (total 9 columns):\n",
      " #   Column                       Non-Null Count  Dtype  \n",
      "---  ------                       --------------  -----  \n",
      " 0   online_order                 32013 non-null  object \n",
      " 1   book_table                   32013 non-null  object \n",
      " 2   location                     32013 non-null  object \n",
      " 3   approx_cost(for two people)  32013 non-null  float64\n",
      " 4   listed_in(type)              32013 non-null  object \n",
      " 5   listed_in(city)              32013 non-null  object \n",
      " 6   rest_type_counts             32013 non-null  int64  \n",
      " 7   cuisines_counts              32013 non-null  int64  \n",
      " 8   success                      32013 non-null  int64  \n",
      "dtypes: float64(1), int64(3), object(5)\n",
      "memory usage: 2.2+ MB\n"
     ]
    }
   ],
   "source": [
    "df = pd.read_csv(DF_PATH)\n",
    "df.info()"
   ]
  },
  {
   "cell_type": "code",
   "execution_count": 28,
   "id": "0a875f49-1c28-442e-89df-3c5f7c3e859d",
   "metadata": {},
   "outputs": [
    {
     "data": {
      "text/plain": [
       "[1, 2, 3, 4, 5, 6, 7, 8]"
      ]
     },
     "execution_count": 28,
     "metadata": {},
     "output_type": "execute_result"
    }
   ],
   "source": [
    "sorted(df['cuisines_counts'].unique())"
   ]
  },
  {
   "cell_type": "code",
   "execution_count": 37,
   "id": "b64370b9-d534-439a-b0f0-ce5f439b423c",
   "metadata": {},
   "outputs": [
    {
     "name": "stdout",
     "output_type": "stream",
     "text": [
      "Overwriting model_deploy.py\n"
     ]
    }
   ],
   "source": [
    "%%writefile model_deploy.py\n",
    "\n",
    "# import libraries\n",
    "import streamlit as st\n",
    "import pandas as pd\n",
    "import joblib\n",
    "import sklearn\n",
    "import category_encoders\n",
    "\n",
    "# define paths\n",
    "MODEL_PATH = '../models/last_model.pkl'\n",
    "INPUTS_PATH = '../models/last_inputs.pkl'\n",
    "\n",
    "# read model and inputs\n",
    "model = joblib.load(MODEL_PATH)\n",
    "inputs = joblib.load(INPUTS_PATH)\n",
    "\n",
    "# define function to make prediction\n",
    "def make_prediction(online_order, book_table, location, approx_cost, listed_in_type, listed_in_city, rest_type_counts, cuisines_counts):\n",
    "    df_pred = pd.DataFrame(columns = inputs)\n",
    "    df_pred.at[0, \"online_order\"] = online_order\n",
    "    df_pred.at[0, \"book_table\"] = book_table\n",
    "    df_pred.at[0, \"location\"] = location\n",
    "    df_pred.at[0, \"approx_cost(for two people)\"] = approx_cost\n",
    "    df_pred.at[0, \"listed_in(type)\"] = listed_in_type\n",
    "    df_pred.at[0, \"listed_in(city)\"] = listed_in_city\n",
    "    df_pred.at[0, \"rest_type_counts\"] = rest_type_counts\n",
    "    df_pred.at[0, \"cuisines_counts\"] = cuisines_counts\n",
    "    result = model.predict(df_pred)\n",
    "    return result[0]\n",
    "\n",
    "# define main function to make a streamlit\n",
    "def main():\n",
    "    st.title('Banglore Restaurants Success')\n",
    "    online_order = st.selectbox('Restaurant has online ordering: ', ['Yes', 'No'])\n",
    "    book_table = st.selectbox('Restaurant has ability to book a table: ', ['Yes', 'No'])\n",
    "    location = st.selectbox('Restaurant location: ', \n",
    "                            ['Banashankari', 'Basavanagudi', 'other', 'Jayanagar', 'JP Nagar',\n",
    "                             'Bannerghatta Road', 'BTM', 'Electronic City', 'Shanti Nagar',\n",
    "                             'Koramangala 5th Block', 'Richmond Road', 'HSR',\n",
    "                             'Koramangala 7th Block', 'Bellandur', 'Sarjapur Road',\n",
    "                             'Marathahalli', 'Whitefield', 'Old Airport Road', 'Indiranagar',\n",
    "                             'Koramangala 1st Block', 'Frazer Town', 'MG Road', 'Brigade Road',\n",
    "                             'Lavelle Road', 'Church Street', 'Ulsoor', 'Residency Road',\n",
    "                             'Shivajinagar', 'St. Marks Road', 'Cunningham Road',\n",
    "                             'Commercial Street', 'Vasanth Nagar', 'Domlur',\n",
    "                             'Koramangala 8th Block', 'Ejipura', 'Jeevan Bhima Nagar',\n",
    "                             'Kammanahalli', 'Koramangala 6th Block', 'Brookefield',\n",
    "                             'Koramangala 4th Block', 'Banaswadi', 'Kalyan Nagar',\n",
    "                             'Malleshwaram', 'Rajajinagar', 'New BEL Road'])\n",
    "    approx_cost = st.slider('Approximation cost for two people: ', min_value = 10, max_value = 10000, value = 800, step = 200)\n",
    "    listed_in_type = st.selectbox('Restaurant listed in type: ', \n",
    "                                  ['Buffet', 'Cafes', 'Delivery', 'Desserts', 'Dine-out',\n",
    "                                   'Drinks & nightlife', 'Pubs and bars'])\n",
    "    listed_in_city = st.selectbox('Restaurant listed in city: ', \n",
    "                                  ['Banashankari', 'Bannerghatta Road', 'Basavanagudi', 'Bellandur',\n",
    "                                   'Brigade Road', 'Brookefield', 'BTM', 'Church Street',\n",
    "                                   'Electronic City', 'Frazer Town', 'HSR', 'Indiranagar',\n",
    "                                   'Jayanagar', 'JP Nagar', 'Kalyan Nagar', 'Kammanahalli',\n",
    "                                   'Koramangala 4th Block', 'Koramangala 5th Block',\n",
    "                                   'Koramangala 6th Block', 'Koramangala 7th Block', 'Lavelle Road',\n",
    "                                   'Malleshwaram', 'Marathahalli', 'MG Road', 'New BEL Road',\n",
    "                                   'Old Airport Road', 'Rajajinagar', 'Residency Road',\n",
    "                                   'Sarjapur Road', 'Whitefield'])\n",
    "    rest_type_counts = st.selectbox('Restaurant type conuts: ', [1, 2])\n",
    "    cuisines_counts = st.selectbox('Restanutant cuisine counts: ', [1, 2, 3, 4, 5, 6, 7, 8])\n",
    "    if st.button('Predict'):\n",
    "        result = make_prediction(online_order, book_table, location, approx_cost, listed_in_type,\n",
    "                                 listed_in_city, rest_type_counts, cuisines_counts)\n",
    "        list_types = ['Your restaurant may fail', 'Your restaurant will succeed']\n",
    "        st.text(list_types[result])\n",
    "\n",
    "# call main function to run\n",
    "main()"
   ]
  },
  {
   "cell_type": "code",
   "execution_count": 41,
   "id": "7d0b7979-dd63-41b9-8206-4c922907c41e",
   "metadata": {},
   "outputs": [
    {
     "name": "stdout",
     "output_type": "stream",
     "text": [
      "Overwriting model_deploy.py\n"
     ]
    }
   ],
   "source": [
    "%%writefile model_deploy.py\n",
    "\n",
    "import streamlit as st\n",
    "import pandas as pd\n",
    "import joblib\n",
    "import sklearn\n",
    "import category_encoders\n",
    "\n",
    "# Define paths\n",
    "MODEL_PATH = '../models/last_model.pkl'\n",
    "INPUTS_PATH = '../models/last_inputs.pkl'\n",
    "\n",
    "# Read model and inputs\n",
    "model = joblib.load(MODEL_PATH)\n",
    "inputs = joblib.load(INPUTS_PATH)\n",
    "\n",
    "# Define function to make prediction\n",
    "def make_prediction(online_order, book_table, location, approx_cost, listed_in_type, listed_in_city, rest_type_counts, cuisines_counts):\n",
    "    df_pred = pd.DataFrame(columns=inputs)\n",
    "    df_pred.at[0, \"online_order\"] = online_order\n",
    "    df_pred.at[0, \"book_table\"] = book_table\n",
    "    df_pred.at[0, \"location\"] = location\n",
    "    df_pred.at[0, \"approx_cost(for two people)\"] = approx_cost\n",
    "    df_pred.at[0, \"listed_in(type)\"] = listed_in_type\n",
    "    df_pred.at[0, \"listed_in(city)\"] = listed_in_city\n",
    "    df_pred.at[0, \"rest_type_counts\"] = rest_type_counts\n",
    "    df_pred.at[0, \"cuisines_counts\"] = cuisines_counts\n",
    "    result = model.predict(df_pred)\n",
    "    return result[0]\n",
    "\n",
    "# Define main function to make a Streamlit app\n",
    "def main():\n",
    "    st.set_page_config(\n",
    "        page_title=\"Banglore Restaurants Success\",\n",
    "        page_icon=\":restaurant:\",\n",
    "        layout=\"wide\",\n",
    "        initial_sidebar_state=\"expanded\",\n",
    "        menu_items={'Get Help': 'https://www.streamlit.io/'}\n",
    "        #theme=\"light\"\n",
    "    )\n",
    "\n",
    "    # Create a centered title with an icon\n",
    "    st.title(\"Predict Your Restaurant's Success in Bangalore :fork_and_knife:\")\n",
    "\n",
    "    # Add a subtitle with a descriptive message\n",
    "    st.subheader(\"Find out if your restaurant has the potential to thrive in the city's vibrant culinary scene.\")\n",
    "\n",
    "    # Organize inputs into two columns\n",
    "    col1, col2 = st.columns(2)\n",
    "    with col1:\n",
    "        online_order = st.radio('Restaurant has online ordering: ', ['Yes', 'No'])\n",
    "        book_table = st.radio('Restaurant has ability to book a table: ', ['Yes', 'No'])\n",
    "        location = st.selectbox('Restaurant location: ', \n",
    "                                ['Banashankari', 'Basavanagudi', 'other', 'Jayanagar', 'JP Nagar',\n",
    "                                 'Bannerghatta Road', 'BTM', 'Electronic City', 'Shanti Nagar',\n",
    "                                 'Koramangala 5th Block', 'Richmond Road', 'HSR',\n",
    "                                 'Koramangala 7th Block', 'Bellandur', 'Sarjapur Road',\n",
    "                                 'Marathahalli', 'Whitefield', 'Old Airport Road', 'Indiranagar',\n",
    "                                 'Koramangala 1st Block', 'Frazer Town', 'MG Road', 'Brigade Road',\n",
    "                                 'Lavelle Road', 'Church Street', 'Ulsoor', 'Residency Road',\n",
    "                                 'Shivajinagar', 'St. Marks Road', 'Cunningham Road',\n",
    "                                 'Commercial Street', 'Vasanth Nagar', 'Domlur',\n",
    "                                 'Koramangala 8th Block', 'Ejipura', 'Jeevan Bhima Nagar',\n",
    "                                 'Kammanahalli', 'Koramangala 6th Block', 'Brookefield',\n",
    "                                 'Koramangala 4th Block', 'Banaswadi', 'Kalyan Nagar',\n",
    "                                 'Malleshwaram', 'Rajajinagar', 'New BEL Road'])\n",
    "    with col2:\n",
    "        rest_type_counts = st.selectbox('Restaurant type conuts: ', [1, 2])\n",
    "        listed_in_type = st.selectbox('Restaurant listed in type: ', \n",
    "                                      ['Buffet', 'Cafes', 'Delivery', 'Desserts', 'Dine-out',\n",
    "                                       'Drinks & nightlife', 'Pubs and bars'])\n",
    "        listed_in_city = st.selectbox('Restaurant listed in city: ', \n",
    "                                      ['Banashankari', 'Bannerghatta Road', 'Basavanagudi', 'Bellandur',\n",
    "                                       'Brigade Road', 'Brookefield', 'BTM', 'Church Street',\n",
    "                                       'Electronic City', 'Frazer Town', 'HSR', 'Indiranagar',\n",
    "                                       'Jayanagar', 'JP Nagar', 'Kalyan Nagar', 'Kammanahalli',\n",
    "                                       'Koramangala 4th Block', 'Koramangala 5th Block',\n",
    "                                       'Koramangala 6th Block', 'Koramangala 7th Block', 'Lavelle Road',\n",
    "                                       'Malleshwaram', 'Marathahalli', 'MG Road', 'New BEL Road',\n",
    "                                       'Old Airport Road', 'Rajajinagar', 'Residency Road',\n",
    "                                       'Sarjapur Road', 'Whitefield'])\n",
    "\n",
    "    approx_cost = st.slider('Approximation cost for two people: ', min_value = 10, max_value = 10000, value = 800, step = 200)\n",
    "    cuisines_counts = st.selectbox('Restanutant cuisine counts: ', [1, 2, 3, 4, 5, 6, 7, 8])\n",
    "\n",
    "    if st.button('Predict'):\n",
    "        result = make_prediction(online_order, book_table, location, approx_cost, listed_in_type, listed_in_city, rest_type_counts, cuisines_counts)\n",
    "        list_types = ['Your restaurant may fail', 'Your restaurant will succeed']\n",
    "        st.write(f\"**Prediction:** {list_types[result]} :crystal_ball:\", unsafe_allow_html=True)\n",
    "\n",
    "# Call main function to run\n",
    "main()"
   ]
  },
  {
   "cell_type": "code",
   "execution_count": 40,
   "id": "47b6f3ae-1245-487d-bf5b-c94ee555e7e4",
   "metadata": {},
   "outputs": [
    {
     "name": "stdout",
     "output_type": "stream",
     "text": [
      "Overwriting model_deploy.py\n"
     ]
    }
   ],
   "source": [
    "%%writefile model_deploy.py\n",
    "\n",
    "# import libraries\n",
    "import streamlit as st\n",
    "import pandas as pd\n",
    "import joblib\n",
    "from PIL import Image\n",
    "\n",
    "# Define paths\n",
    "MODEL_PATH = '../models/last_model.pkl'\n",
    "INPUTS_PATH = '../models/last_inputs.pkl'\n",
    "\n",
    "# Read model and inputs\n",
    "model = joblib.load(MODEL_PATH)\n",
    "inputs = joblib.load(INPUTS_PATH)\n",
    "\n",
    "# Define function to make prediction\n",
    "def make_prediction(online_order, book_table, location, approx_cost, listed_in_type, listed_in_city, rest_type_counts, cuisines_counts):\n",
    "    df_pred = pd.DataFrame(columns=inputs)\n",
    "    df_pred.at[0, \"online_order\"] = online_order\n",
    "    df_pred.at[0, \"book_table\"] = book_table\n",
    "    df_pred.at[0, \"location\"] = location\n",
    "    df_pred.at[0, \"approx_cost(for two people)\"] = approx_cost\n",
    "    df_pred.at[0, \"listed_in(type)\"] = listed_in_type\n",
    "    df_pred.at[0, \"listed_in(city)\"] = listed_in_city\n",
    "    df_pred.at[0, \"rest_type_counts\"] = rest_type_counts\n",
    "    df_pred.at[0, \"cuisines_counts\"] = cuisines_counts\n",
    "    proba = model.predict_proba(df_pred)[0]\n",
    "    result = model.predict(df_pred)[0]  # Get the predicted class\n",
    "    # Estimate confidence as the probability of the predicted class\n",
    "    confidence = round(proba[result] * 100, 2)\n",
    "    return result, confidence\n",
    "\n",
    "# Define main function to create the Streamlit app\n",
    "def main():\n",
    "    st.title('Bangalore Restaurants Success Predictor')\n",
    "    st.write('Welcome to Bangalore Restaurants Success Predictor. This app helps you predict the success of your restaurant based on various factors.')\n",
    "\n",
    "    # Add an image\n",
    "    #image = Image.open('restaurant.jpg')\n",
    "    #st.image(image, caption='Bangalore Restaurants')\n",
    "\n",
    "    # Add inputs\n",
    "    st.sidebar.header('Enter Restaurant Details')\n",
    "    online_order = st.sidebar.radio('Restaurant has online ordering:', ['Yes', 'No'])\n",
    "    book_table = st.sidebar.radio('Restaurant has ability to book a table:', ['Yes', 'No'])\n",
    "    location = st.sidebar.selectbox('Restaurant location:', ['Banashankari', 'Basavanagudi', 'other', 'Jayanagar', 'JP Nagar',\n",
    "                                                              'Bannerghatta Road', 'BTM', 'Electronic City', 'Shanti Nagar',\n",
    "                                                              'Koramangala 5th Block', 'Richmond Road', 'HSR',\n",
    "                                                              'Koramangala 7th Block', 'Bellandur', 'Sarjapur Road',\n",
    "                                                              'Marathahalli', 'Whitefield', 'Old Airport Road', 'Indiranagar',\n",
    "                                                              'Koramangala 1st Block', 'Frazer Town', 'MG Road', 'Brigade Road',\n",
    "                                                              'Lavelle Road', 'Church Street', 'Ulsoor', 'Residency Road',\n",
    "                                                              'Shivajinagar', 'St. Marks Road', 'Cunningham Road',\n",
    "                                                              'Commercial Street', 'Vasanth Nagar', 'Domlur',\n",
    "                                                              'Koramangala 8th Block', 'Ejipura', 'Jeevan Bhima Nagar',\n",
    "                                                              'Kammanahalli', 'Koramangala 6th Block', 'Brookefield',\n",
    "                                                              'Koramangala 4th Block', 'Banaswadi', 'Kalyan Nagar',\n",
    "                                                              'Malleshwaram', 'Rajajinagar', 'New BEL Road'])\n",
    "    approx_cost = st.sidebar.slider('Approximation cost for two people:', min_value=10, max_value=10000, value=800, step=200)\n",
    "    listed_in_type = st.sidebar.selectbox('Restaurant listed in type:', ['Buffet', 'Cafes', 'Delivery', 'Desserts', 'Dine-out',\n",
    "                                                                         'Drinks & nightlife', 'Pubs and bars'])\n",
    "    listed_in_city = st.sidebar.selectbox('Restaurant listed in city:', ['Banashankari', 'Bannerghatta Road', 'Basavanagudi', 'Bellandur',\n",
    "                                                                         'Brigade Road', 'Brookefield', 'BTM', 'Church Street',\n",
    "                                                                         'Electronic City', 'Frazer Town', 'HSR', 'Indiranagar',\n",
    "                                                                         'Jayanagar', 'JP Nagar', 'Kalyan Nagar', 'Kammanahalli',\n",
    "                                                                         'Koramangala 4th Block', 'Koramangala 5th Block',\n",
    "                                                                         'Koramangala 6th Block', 'Koramangala 7th Block', 'Lavelle Road',\n",
    "                                                                         'Malleshwaram', 'Marathahalli', 'MG Road', 'New BEL Road',\n",
    "                                                                         'Old Airport Road', 'Rajajinagar', 'Residency Road',\n",
    "                                                                         'Sarjapur Road', 'Whitefield'])\n",
    "    rest_type_counts = st.sidebar.selectbox('Restaurant type counts:', [1, 2])\n",
    "    cuisines_counts = st.sidebar.selectbox('Restaurant cuisine counts:', [1, 2, 3, 4, 5, 6, 7, 8])\n",
    "\n",
    "    if st.button('Predict'):\n",
    "        result, confidence = make_prediction(online_order, book_table, location, approx_cost, listed_in_type, listed_in_city, rest_type_counts, cuisines_counts)\n",
    "        list_types = ['Your restaurant may fail', 'Your restaurant will succeed']\n",
    "        st.write(f\"**Prediction:** {list_types[result]} :crystal_ball:\")\n",
    "        st.write(f\"**Confidence:** {confidence}%\")\n",
    "\n",
    "# Call the main function to run the app\n",
    "if __name__ == \"__main__\":\n",
    "    main()\n"
   ]
  },
  {
   "cell_type": "code",
   "execution_count": null,
   "id": "0fbf0cb1-b2d1-480f-a211-aea30f033e08",
   "metadata": {},
   "outputs": [],
   "source": []
  }
 ],
 "metadata": {
  "kernelspec": {
   "display_name": "Python 3 (ipykernel)",
   "language": "python",
   "name": "python3"
  },
  "language_info": {
   "codemirror_mode": {
    "name": "ipython",
    "version": 3
   },
   "file_extension": ".py",
   "mimetype": "text/x-python",
   "name": "python",
   "nbconvert_exporter": "python",
   "pygments_lexer": "ipython3",
   "version": "3.11.5"
  }
 },
 "nbformat": 4,
 "nbformat_minor": 5
}
